{
 "cells": [
  {
   "cell_type": "markdown",
   "id": "6d4310f6-a159-4b5f-815e-a32310da57fc",
   "metadata": {},
   "source": [
    "# Words vs Tokens: Why Transformers Break Down Words Before Creating Embeddings\n",
    "\n",
    "## The Million-Word Problem\n",
    "\n",
    "Imagine if we tried to create a unique embedding vector for every single word in the English language. With over **1 million words** in English dictionaries, plus proper nouns, technical terms, and new words constantly being created, we'd need:\n",
    "\n",
    "- **Millions of embedding vectors** to store in memory\n",
    "- **Massive computational resources** for training\n",
    "- **Poor performance** on new or rare words the model has never seen\n",
    "\n",
    "## The Smart Solution: Tokenization\n",
    "\n",
    "Instead of treating each word as an atomic unit, **Transformers break words into smaller, reusable pieces called tokens**. This is like having a LEGO set where you can build countless structures from a limited number of blocks.\n",
    "\n",
    "### Example: \"unbreakable\"\n",
    "- **Word-level**: One unique vector for \"unbreakable\"\n",
    "- **Token-level**: Three reusable vectors: \"un\" + \"break\" + \"able\"\n",
    "\n",
    "### Why This Works:\n",
    "1. **\"un\"** appears in: unbreakable, unforeseen, unable, unhappy, unexpected\n",
    "2. **\"break\"** appears in: unbreakable, breaking, breakthrough, breakdown  \n",
    "3. **\"able\"** appears in: unbreakable, understandable, capable, reliable, readable\n",
    "\n",
    "**Result**: Instead of learning 5 separate word embeddings, we learn 3 token embeddings that can represent many more words!\n",
    "\n",
    "## Key Benefits:\n",
    "- ✅ **Smaller vocabulary**: ~30K tokens vs millions of words\n",
    "- ✅ **Better generalization**: Understanding \"break\" helps with \"breaking\", \"breakthrough\", etc.\n",
    "- ✅ **Handles unknown words**: Can tokenize new words using known subword patterns\n",
    "- ✅ **Efficient training**: Fewer parameters, faster computation\n",
    "- ✅ **Semantic clustering**: Similar tokens naturally group together in embedding space\n",
    "\n",
    "This notebook demonstrates how tokenization creates an efficient, reusable vocabulary that makes modern AI language models possible."
   ]
  },
  {
   "cell_type": "code",
   "execution_count": 4,
   "id": "631a92d5-dd5d-4f7d-863b-f1c8962203fd",
   "metadata": {},
   "outputs": [],
   "source": [
    "import numpy as np\n",
    "import pandas as pd\n",
    "import plotly.graph_objects as go\n",
    "import plotly.express as px\n",
    "from sklearn.feature_extraction.text import TfidfVectorizer\n",
    "from sklearn.decomposition import PCA\n",
    "from collections import Counter\n",
    "import re"
   ]
  },
  {
   "cell_type": "markdown",
   "id": "9up1wnjiz0p",
   "metadata": {},
   "source": [
    "## Required Libraries\n",
    "\n",
    "This demonstration uses several Python libraries to show tokenization and create visualizations:\n",
    "\n",
    "- **numpy & pandas**: Data manipulation and analysis\n",
    "- **plotly**: Interactive 3D visualizations to show token clustering\n",
    "- **sklearn**: TF-IDF vectorization and PCA for creating simple embeddings\n",
    "- **collections.Counter**: Count token frequencies to show reusability\n",
    "- **re**: Regular expressions for text processing\n",
    "\n",
    "Note: This is a lightweight demo that doesn't require PyTorch or TensorFlow - we'll simulate the tokenization process using simple rules and create basic embeddings to demonstrate the concepts."
   ]
  },
  {
   "cell_type": "code",
   "execution_count": 5,
   "id": "e33c4a4f-b56b-4ca0-8fc9-16deaedc849e",
   "metadata": {},
   "outputs": [
    {
     "name": "stdout",
     "output_type": "stream",
     "text": [
      "=== TOKENIZATION DEMO (No PyTorch Required) ===\n",
      "\n",
      "Word → Tokens breakdown:\n",
      "'unbreakable' → ['un', 'break', 'able']\n",
      "'understand' → ['un', 'derstand']\n",
      "'unable' → ['un', 'able']\n",
      "'unforeseen' → ['un', 'foreseen']\n",
      "'unexpected' → ['un', 'expect', 'ed']\n",
      "'breaking' → ['break', 'ing']\n",
      "'breakthrough' → ['breakthrough']\n",
      "'outbreak' → ['out', 'break']\n",
      "'breakdown' → ['breakdown']\n",
      "'breakage' → ['breakage']\n",
      "'understandable' → ['un', 'derstand', 'able']\n",
      "'capable' → ['cap', 'able']\n",
      "'reliable' → ['re', 'li', 'able']\n",
      "'readable' → ['re', 'ad', 'able']\n",
      "'comfortable' → ['comfort', 'able']\n",
      "'break' → ['break']\n",
      "'able' → ['able']\n",
      "'happy' → ['happy']\n",
      "'unhappy' → ['un', 'happy']\n",
      "'happiness' → ['happi', 'ness']\n",
      "'running' → ['runn', 'ing']\n",
      "'runner' → ['runn', 'er']\n",
      "'walked' → ['walk', 'ed']\n",
      "'walking' → ['walk', 'ing']\n",
      "'walker' → ['walk', 'er']\n",
      "'development' → ['development']\n",
      "'developer' → ['develop', 'er']\n",
      "'developing' → ['develop', 'ing']\n",
      "'redevelop' → ['re', 'develop']\n",
      "'teaching' → ['teach', 'ing']\n",
      "'teacher' → ['teach', 'er']\n",
      "'learnable' → ['learn', 'able']\n",
      "'relearning' → ['re', 'learn', 'ing']\n"
     ]
    }
   ],
   "source": [
    "# Simple tokenizer class (mimics real tokenizers)\n",
    "class SimpleTokenizer:\n",
    "    def __init__(self):\n",
    "        # Common subword patterns\n",
    "        self.prefixes = ['un', 're', 'pre', 'dis', 'mis', 'over', 'under', 'out']\n",
    "        self.suffixes = ['ing', 'ed', 'er', 'est', 'ly', 'tion', 'able', 'ness']\n",
    "        self.common_roots = ['break', 'stand', 'develop', 'run', 'walk', 'learn', 'teach']\n",
    "    \n",
    "    def tokenize(self, word):\n",
    "        \"\"\"Simple rule-based tokenization\"\"\"\n",
    "        word = word.lower()\n",
    "        tokens = []\n",
    "        \n",
    "        # Check for prefixes\n",
    "        for prefix in self.prefixes:\n",
    "            if word.startswith(prefix) and len(word) > len(prefix):\n",
    "                tokens.append(prefix)\n",
    "                word = word[len(prefix):]\n",
    "                break\n",
    "        \n",
    "        # Check for suffixes\n",
    "        for suffix in self.suffixes:\n",
    "            if word.endswith(suffix) and len(word) > len(suffix):\n",
    "                root = word[:-len(suffix)]\n",
    "                if len(root) >= 2:  # Valid root\n",
    "                    tokens.append(root)\n",
    "                    tokens.append(suffix)\n",
    "                    return tokens\n",
    "        \n",
    "        # If no suffix found, add the remaining word\n",
    "        if word:\n",
    "            tokens.append(word)\n",
    "        \n",
    "        return tokens if tokens else [word.lower()]\n",
    "\n",
    "# Initialize simple tokenizer\n",
    "tokenizer = SimpleTokenizer()\n",
    "\n",
    "# Your example words\n",
    "sample_words = [\n",
    "    \"unbreakable\", \"understand\", \"unable\", \"unforeseen\", \"unexpected\",\n",
    "    \"breaking\", \"breakthrough\", \"outbreak\", \"breakdown\", \"breakage\",\n",
    "    \"understandable\", \"capable\", \"reliable\", \"readable\", \"comfortable\",\n",
    "    \"break\", \"able\", \"happy\", \"unhappy\", \"happiness\",\n",
    "    \"running\", \"runner\", \"walked\", \"walking\", \"walker\",\n",
    "    \"development\", \"developer\", \"developing\", \"redevelop\",\n",
    "    \"teaching\", \"teacher\", \"learnable\", \"relearning\"\n",
    "]\n",
    "\n",
    "print(\"=== TOKENIZATION DEMO (No PyTorch Required) ===\")\n",
    "\n",
    "# Tokenize all words\n",
    "tokenization_results = []\n",
    "all_tokens = []\n",
    "\n",
    "print(\"\\nWord → Tokens breakdown:\")\n",
    "for word in sample_words:\n",
    "    tokens = tokenizer.tokenize(word)\n",
    "    all_tokens.extend(tokens)\n",
    "    tokenization_results.append({\n",
    "        'word': word,\n",
    "        'tokens': tokens,\n",
    "        'token_count': len(tokens)\n",
    "    })\n",
    "    print(f\"'{word}' → {tokens}\")"
   ]
  },
  {
   "cell_type": "markdown",
   "id": "2ollax4uhq2",
   "metadata": {},
   "source": [
    "## Simple Tokenizer Implementation\n",
    "\n",
    "This section creates a simplified version of how real tokenizers work. Real tokenizers like **Byte-Pair Encoding (BPE)** or **WordPiece** are more sophisticated, but this demo shows the core concept.\n",
    "\n",
    "### How Our SimpleTokenizer Works:\n",
    "1. **Identifies common prefixes**: \"un\", \"re\", \"pre\", \"dis\", etc.\n",
    "2. **Identifies common suffixes**: \"ing\", \"ed\", \"er\", \"able\", \"ness\", etc.\n",
    "3. **Breaks words into reusable parts**: prefix + root + suffix\n",
    "\n",
    "### Real-World Example:\n",
    "- **\"unbreakable\"** → [\"un\", \"break\", \"able\"]\n",
    "- **\"understand\"** → [\"un\", \"derstand\"] \n",
    "- **\"understandable\"** → [\"un\", \"derstand\", \"able\"]\n",
    "\n",
    "Notice how \"un\" and \"able\" tokens are **reused** across different words!\n",
    "\n",
    "### Why This Approach Works:\n",
    "- **Linguistic patterns**: English has predictable prefix/suffix patterns\n",
    "- **Semantic preservation**: \"un\" always means \"not\", \"able\" always means \"capable of\"\n",
    "- **Efficient vocabulary**: Instead of millions of unique words, we need only thousands of tokens\n",
    "- **Generalization**: New words can be tokenized using existing patterns\n",
    "\n",
    "Let's see this in action:"
   ]
  },
  {
   "cell_type": "code",
   "execution_count": 7,
   "id": "625a2630-c23d-488d-8d0f-82ae8b71a1fe",
   "metadata": {},
   "outputs": [
    {
     "name": "stdout",
     "output_type": "stream",
     "text": [
      "\n",
      "Total words: 33\n",
      "Total unique tokens: 27\n",
      "Compression ratio: 1.22x\n",
      "\n",
      "Most reused tokens:\n",
      "  'able': used 9 times\n",
      "  'un': used 7 times\n",
      "  'ing': used 6 times\n",
      "  'break': used 4 times\n",
      "  're': used 4 times\n",
      "  'er': used 4 times\n",
      "  'walk': used 3 times\n",
      "  'develop': used 3 times\n",
      "  'derstand': used 2 times\n",
      "  'ed': used 2 times\n",
      "\n",
      "Creating simple embeddings using TF-IDF...\n",
      "Created embeddings shape: (27, 50)\n"
     ]
    },
    {
     "data": {
      "application/vnd.plotly.v1+json": {
       "config": {
        "plotlyServerURL": "https://plot.ly"
       },
       "data": [
        {
         "hovertemplate": "<b>Token:</b> %{text}<br><b>Category:</b> Prefixes<br><b>Used in:</b> %{marker.size} words<br><extra></extra>",
         "marker": {
          "color": "#FF6B6B",
          "line": {
           "color": "white",
           "width": 2
          },
          "opacity": 0.8,
          "size": {
           "_inputArray": {
            "0": 36,
            "1": 24,
            "bdata": "JBg=",
            "dtype": "i1",
            "shape": "2"
           },
           "bdata": "JBg=",
           "dtype": "i1"
          }
         },
         "mode": "markers+text",
         "name": "Prefixes",
         "text": [
          "un",
          "re"
         ],
         "textfont": {
          "color": "black",
          "size": 12
         },
         "textposition": "middle center",
         "type": "scatter3d",
         "x": {
          "_inputArray": {
           "0": -0.26987676554403245,
           "1": 0.25354458042163386,
           "bdata": "bY99MqlF0b8cSz8MEzrQPw==",
           "dtype": "f8",
           "shape": "2"
          },
          "bdata": "bY99MqlF0b8cSz8MEzrQPw==",
          "dtype": "f8"
         },
         "y": {
          "_inputArray": {
           "0": -0.4339851562956836,
           "1": -0.002104966848543689,
           "bdata": "fVJPrWnG27820cF4bz5hvw==",
           "dtype": "f8",
           "shape": "2"
          },
          "bdata": "fVJPrWnG27820cF4bz5hvw==",
          "dtype": "f8"
         },
         "z": {
          "_inputArray": {
           "0": 0.7729075540941602,
           "1": -0.011578734435919447,
           "bdata": "+011n6i76D9gytltl7aHvw==",
           "dtype": "f8",
           "shape": "2"
          },
          "bdata": "+011n6i76D9gytltl7aHvw==",
          "dtype": "f8"
         }
        },
        {
         "hovertemplate": "<b>Token:</b> %{text}<br><b>Category:</b> Common Roots<br><b>Used in:</b> %{marker.size} words<br><extra></extra>",
         "marker": {
          "color": "#4ECDC4",
          "line": {
           "color": "white",
           "width": 2
          },
          "opacity": 0.8,
          "size": {
           "_inputArray": {
            "0": 24,
            "1": 20,
            "2": 20,
            "3": 16,
            "4": 16,
            "bdata": "GBQUEBA=",
            "dtype": "i1",
            "shape": "5"
           },
           "bdata": "GBQUEBA=",
           "dtype": "i1"
          }
         },
         "mode": "markers+text",
         "name": "Common Roots",
         "text": [
          "break",
          "walk",
          "develop",
          "teach",
          "learn"
         ],
         "textfont": {
          "color": "black",
          "size": 12
         },
         "textposition": "middle center",
         "type": "scatter3d",
         "x": {
          "_inputArray": {
           "0": 0.8041788387242268,
           "1": -0.10901410241124292,
           "2": -0.26249098084670447,
           "3": 0.29250526302017343,
           "4": 0.1270975109728324,
           "bdata": "BJaOQtW76T+ruagkWei7v9nRjvimzNC/6Bal/me40j8sAoQyu0TAPw==",
           "dtype": "f8",
           "shape": "5"
          },
          "bdata": "BJaOQtW76T+ruagkWei7v9nRjvimzNC/6Bal/me40j8sAoQyu0TAPw==",
          "dtype": "f8"
         },
         "y": {
          "_inputArray": {
           "0": 0.05729330944348297,
           "1": -0.02007139485586837,
           "2": -0.26229057556892604,
           "3": -0.026459224636745073,
           "4": -0.09415456669495675,
           "bdata": "jsGtdIxVrT+41/aBmI2UvwGGB2leydC/Vyf4gSAYm7/cULmAgxq4vw==",
           "dtype": "f8",
           "shape": "5"
          },
          "bdata": "jsGtdIxVrT+41/aBmI2UvwGGB2leydC/Vyf4gSAYm7/cULmAgxq4vw==",
          "dtype": "f8"
         },
         "z": {
          "_inputArray": {
           "0": 0.046491434080781144,
           "1": -0.012906261800232058,
           "2": -0.5382211480734189,
           "3": -0.029729374184687525,
           "4": -0.10173486223648194,
           "bdata": "vpnXqbnNpz+Vz8MimW6Kv4S1n44bOeG/MkVqh2Bxnr+NMyvCSwu6vw==",
           "dtype": "f8",
           "shape": "5"
          },
          "bdata": "vpnXqbnNpz+Vz8MimW6Kv4S1n44bOeG/MkVqh2Bxnr+NMyvCSwu6vw==",
          "dtype": "f8"
         }
        },
        {
         "hovertemplate": "<b>Token:</b> %{text}<br><b>Category:</b> Suffixes<br><b>Used in:</b> %{marker.size} words<br><extra></extra>",
         "marker": {
          "color": "#45B7D1",
          "line": {
           "color": "white",
           "width": 2
          },
          "opacity": 0.8,
          "size": {
           "_inputArray": {
            "0": 44,
            "1": 16,
            "2": 32,
            "3": 12,
            "4": 24,
            "bdata": "LBAgDBg=",
            "dtype": "i1",
            "shape": "5"
           },
           "bdata": "LBAgDBg=",
           "dtype": "i1"
          }
         },
         "mode": "markers+text",
         "name": "Suffixes",
         "text": [
          "able",
          "ed",
          "ing",
          "ness",
          "er"
         ],
         "textfont": {
          "color": "black",
          "size": 12
         },
         "textposition": "middle center",
         "type": "scatter3d",
         "x": {
          "_inputArray": {
           "0": -0.11187931215238867,
           "1": -0.15529734731376488,
           "2": -0.1090141024112429,
           "3": -0.15957726388948734,
           "4": -0.20022512886849472,
           "bdata": "0CHLYh+kvL9QIO+RyODDv6q5qCRZ6Lu/1JXLHAdtxL/T7Ske+qDJvw==",
           "dtype": "f8",
           "shape": "5"
          },
          "bdata": "0CHLYh+kvL9QIO+RyODDv6q5qCRZ6Lu/1JXLHAdtxL/T7Ske+qDJvw==",
          "dtype": "f8"
         },
         "y": {
          "_inputArray": {
           "0": -0.10742936474865733,
           "1": -0.0383682931630653,
           "2": -0.02007139485586849,
           "3": -0.054827901142858744,
           "4": -0.09724443615725178,
           "bdata": "5Lw5qH2Au7/baq1IAqWjv9vX9oGYjZS/oUCiFGcSrL9SawPpAuW4vw==",
           "dtype": "f8",
           "shape": "5"
          },
          "bdata": "5Lw5qH2Au7/baq1IAqWjv9vX9oGYjZS/oUCiFGcSrL9SawPpAuW4vw==",
          "dtype": "f8"
         },
         "z": {
          "_inputArray": {
           "0": -0.11088920873354968,
           "1": -0.02625086915420276,
           "2": -0.012906261800232084,
           "3": -0.05365798978467833,
           "4": -0.13434724091428793,
           "bdata": "+Gr9NDxjvL/NFgkCguGav6TPwyKZboq/562WXg95q78LcQRXSjLBvw==",
           "dtype": "f8",
           "shape": "5"
          },
          "bdata": "+Gr9NDxjvL/NFgkCguGav6TPwyKZboq/562WXg95q78LcQRXSjLBvw==",
          "dtype": "f8"
         }
        },
        {
         "hovertemplate": "<b>Token:</b> %{text}<br><b>Category:</b> Word Stems<br><b>Used in:</b> %{marker.size} words<br><extra></extra>",
         "marker": {
          "color": "#FFA07A",
          "line": {
           "color": "white",
           "width": 2
          },
          "opacity": 0.8,
          "size": {
           "_inputArray": {
            "0": 16,
            "1": 12,
            "10": 12,
            "11": 16,
            "12": 12,
            "2": 12,
            "3": 12,
            "4": 12,
            "5": 12,
            "6": 12,
            "7": 12,
            "8": 12,
            "9": 16,
            "bdata": "EAwMDAwMDAwMEAwQDA==",
            "dtype": "i1",
            "shape": "13"
           },
           "bdata": "EAwMDAwMDAwMEAwQDA==",
           "dtype": "i1"
          }
         },
         "mode": "markers+text",
         "name": "Word Stems",
         "text": [
          "derstand",
          "foreseen",
          "expect",
          "breakthrough",
          "out",
          "breakdown",
          "breakage",
          "cap",
          "comfort",
          "happy",
          "happi",
          "runn",
          "development"
         ],
         "textfont": {
          "color": "black",
          "size": 12
         },
         "textposition": "middle center",
         "type": "scatter3d",
         "x": {
          "_inputArray": {
           "0": -0.22103760202587824,
           "1": -0.05200296677088709,
           "10": -0.3177485087997707,
           "11": -0.2698767655440322,
           "12": -0.2640829146895439,
           "2": -0.15529734731376507,
           "3": 0.7567057815545815,
           "4": -0.019949683898652145,
           "5": 0.698903211454793,
           "6": 0.8041788387242274,
           "7": -0.26164214055189067,
           "8": -0.1660847356131284,
           "9": -0.3214216616000311,
           "bdata": "qpbxy/VKzL/s4CYDIqCqv1cg75HI4MO/0hIPC+826D8/GKSfsG2UvxGRiERqXeY/CZaOQtW76T9nQDutvr7Qv2Ne6b1DQsW/RxQzKSyS1L9IdWnX/VXUv2mPfTKpRdG/YoiBBrzm0L8=",
           "dtype": "f8",
           "shape": "13"
          },
          "bdata": "qpbxy/VKzL/s4CYDIqCqv1cg75HI4MO/0hIPC+826D8/GKSfsG2UvxGRiERqXeY/CZaOQtW76T9nQDutvr7Qv2Ne6b1DQsW/RxQzKSyS1L9IdWnX/VXUv2mPfTKpRdG/YoiBBrzm0L8=",
          "dtype": "f8"
         },
         "y": {
          "_inputArray": {
           "0": -0.13490614551790908,
           "1": -0.09314370331000063,
           "10": 0.7761332466593963,
           "11": -0.43398515629568335,
           "12": -0.26756813160102566,
           "2": -0.03836829316306489,
           "3": 0.05056554125044204,
           "4": -0.018948832052158686,
           "5": 0.05067916811234532,
           "6": 0.05729330944348297,
           "7": 0.5204860344493609,
           "8": -0.07985419116876671,
           "9": 0.7880677050446534,
           "bdata": "6rCDxZpEwb+udosHRNi3v6BqrUgCpaO/x0vzA7rjqT/+fdiXUmeTv6MTQ7Oe8qk/jsGtdIxVrT/ygv9T0qfgP+K0hANTcbS//mqGw9k36T9tsfdjFdboP3hST61pxtu/HGirFdYf0b8=",
           "dtype": "f8",
           "shape": "13"
          },
          "bdata": "6rCDxZpEwb+udosHRNi3v6BqrUgCpaO/x0vzA7rjqT/+fdiXUmeTv6MTQ7Oe8qk/jsGtdIxVrT/ygv9T0qfgP+K0hANTcbS//mqGw9k36T9tsfdjFdboP3hST61pxtu/HGirFdYf0b8=",
          "dtype": "f8"
         },
         "z": {
          "_inputArray": {
           "0": -0.21837257233585505,
           "1": -0.13673887901988288,
           "10": 0.1472061036235127,
           "11": 0.7729075540941598,
           "12": -0.546469744867703,
           "2": -0.026250869154202473,
           "3": 0.043284353865425944,
           "4": -0.00739620232922338,
           "5": 0.04248927495226083,
           "6": 0.046491434080781414,
           "7": 0.09399191337695274,
           "8": -0.09532961103564407,
           "9": 0.14951194600057277,
           "bdata": "bFBD6KHzy79ftb3aqIDBv3oWCQKC4Zq/H52P6F0ppj811+Xxekt+v46Qs3wnwaU/5ZnXqbnNpz/F3wqi2g+4P88NvXmFZ7i/CoY3GzUjwz9T02pMptfCP/dNdZ+ou+g/WrpOHq584b8=",
           "dtype": "f8",
           "shape": "13"
          },
          "bdata": "bFBD6KHzy79ftb3aqIDBv3oWCQKC4Zq/H52P6F0ppj811+Xxekt+v46Qs3wnwaU/5ZnXqbnNpz/F3wqi2g+4P88NvXmFZ7i/CoY3GzUjwz9T02pMptfCP/dNdZ+ou+g/WrpOHq584b8=",
          "dtype": "f8"
         }
        },
        {
         "hovertemplate": "<b>Token:</b> %{text}<br><b>Category:</b> Short Tokens<br><b>Used in:</b> %{marker.size} words<br><extra></extra>",
         "marker": {
          "color": "#98D8C8",
          "line": {
           "color": "white",
           "width": 2
          },
          "opacity": 0.8,
          "size": {
           "_inputArray": {
            "0": 12,
            "1": 12,
            "bdata": "DAw=",
            "dtype": "i1",
            "shape": "2"
           },
           "bdata": "DAw=",
           "dtype": "i1"
          }
         },
         "mode": "markers+text",
         "name": "Short Tokens",
         "text": [
          "li",
          "ad"
         ],
         "textfont": {
          "color": "black",
          "size": 12
         },
         "textposition": "middle center",
         "type": "scatter3d",
         "x": {
          "_inputArray": {
           "0": -0.1552973473137652,
           "1": -0.1552973473137652,
           "bdata": "XCDvkcjgw79cIO+RyODDvw==",
           "dtype": "f8",
           "shape": "2"
          },
          "bdata": "XCDvkcjgw79cIO+RyODDvw==",
          "dtype": "f8"
         },
         "y": {
          "_inputArray": {
           "0": -0.03836829316306508,
           "1": -0.03836829316306475,
           "bdata": "u2qtSAKlo7+Laq1IAqWjvw==",
           "dtype": "f8",
           "shape": "2"
          },
          "bdata": "u2qtSAKlo7+Laq1IAqWjvw==",
          "dtype": "f8"
         },
         "z": {
          "_inputArray": {
           "0": -0.026250869154202862,
           "1": -0.026250869154203233,
           "bdata": "6hYJAoLhmr9VFwkCguGavw==",
           "dtype": "f8",
           "shape": "2"
          },
          "bdata": "6hYJAoLhmr9VFwkCguGavw==",
          "dtype": "f8"
         }
        }
       ],
       "layout": {
        "dragmode": "zoom",
        "height": 700,
        "scene": {
         "aspectmode": "auto",
         "aspectratio": {
          "x": 0.9227906492308591,
          "y": 1.0018642964229454,
          "z": 1.081652890113979
         },
         "camera": {
          "center": {
           "x": 0,
           "y": 0,
           "z": 0
          },
          "eye": {
           "x": 0.6724188939218305,
           "y": 1.5169974714098422,
           "z": 0.7097629279421125
          },
          "projection": {
           "type": "perspective"
          },
          "up": {
           "x": 0,
           "y": 0,
           "z": 1
          }
         },
         "dragmode": "turntable",
         "xaxis": {
          "title": {
           "text": "Similarity Dimension 1"
          },
          "type": "linear"
         },
         "yaxis": {
          "title": {
           "text": "Similarity Dimension 2"
          },
          "type": "linear"
         },
         "zaxis": {
          "title": {
           "text": "Similarity Dimension 3"
          },
          "type": "linear"
         }
        },
        "showlegend": true,
        "template": {
         "data": {
          "bar": [
           {
            "error_x": {
             "color": "#2a3f5f"
            },
            "error_y": {
             "color": "#2a3f5f"
            },
            "marker": {
             "line": {
              "color": "#E5ECF6",
              "width": 0.5
             },
             "pattern": {
              "fillmode": "overlay",
              "size": 10,
              "solidity": 0.2
             }
            },
            "type": "bar"
           }
          ],
          "barpolar": [
           {
            "marker": {
             "line": {
              "color": "#E5ECF6",
              "width": 0.5
             },
             "pattern": {
              "fillmode": "overlay",
              "size": 10,
              "solidity": 0.2
             }
            },
            "type": "barpolar"
           }
          ],
          "carpet": [
           {
            "aaxis": {
             "endlinecolor": "#2a3f5f",
             "gridcolor": "white",
             "linecolor": "white",
             "minorgridcolor": "white",
             "startlinecolor": "#2a3f5f"
            },
            "baxis": {
             "endlinecolor": "#2a3f5f",
             "gridcolor": "white",
             "linecolor": "white",
             "minorgridcolor": "white",
             "startlinecolor": "#2a3f5f"
            },
            "type": "carpet"
           }
          ],
          "choropleth": [
           {
            "colorbar": {
             "outlinewidth": 0,
             "ticks": ""
            },
            "type": "choropleth"
           }
          ],
          "contour": [
           {
            "colorbar": {
             "outlinewidth": 0,
             "ticks": ""
            },
            "colorscale": [
             [
              0,
              "#0d0887"
             ],
             [
              0.1111111111111111,
              "#46039f"
             ],
             [
              0.2222222222222222,
              "#7201a8"
             ],
             [
              0.3333333333333333,
              "#9c179e"
             ],
             [
              0.4444444444444444,
              "#bd3786"
             ],
             [
              0.5555555555555556,
              "#d8576b"
             ],
             [
              0.6666666666666666,
              "#ed7953"
             ],
             [
              0.7777777777777778,
              "#fb9f3a"
             ],
             [
              0.8888888888888888,
              "#fdca26"
             ],
             [
              1,
              "#f0f921"
             ]
            ],
            "type": "contour"
           }
          ],
          "contourcarpet": [
           {
            "colorbar": {
             "outlinewidth": 0,
             "ticks": ""
            },
            "type": "contourcarpet"
           }
          ],
          "heatmap": [
           {
            "colorbar": {
             "outlinewidth": 0,
             "ticks": ""
            },
            "colorscale": [
             [
              0,
              "#0d0887"
             ],
             [
              0.1111111111111111,
              "#46039f"
             ],
             [
              0.2222222222222222,
              "#7201a8"
             ],
             [
              0.3333333333333333,
              "#9c179e"
             ],
             [
              0.4444444444444444,
              "#bd3786"
             ],
             [
              0.5555555555555556,
              "#d8576b"
             ],
             [
              0.6666666666666666,
              "#ed7953"
             ],
             [
              0.7777777777777778,
              "#fb9f3a"
             ],
             [
              0.8888888888888888,
              "#fdca26"
             ],
             [
              1,
              "#f0f921"
             ]
            ],
            "type": "heatmap"
           }
          ],
          "histogram": [
           {
            "marker": {
             "pattern": {
              "fillmode": "overlay",
              "size": 10,
              "solidity": 0.2
             }
            },
            "type": "histogram"
           }
          ],
          "histogram2d": [
           {
            "colorbar": {
             "outlinewidth": 0,
             "ticks": ""
            },
            "colorscale": [
             [
              0,
              "#0d0887"
             ],
             [
              0.1111111111111111,
              "#46039f"
             ],
             [
              0.2222222222222222,
              "#7201a8"
             ],
             [
              0.3333333333333333,
              "#9c179e"
             ],
             [
              0.4444444444444444,
              "#bd3786"
             ],
             [
              0.5555555555555556,
              "#d8576b"
             ],
             [
              0.6666666666666666,
              "#ed7953"
             ],
             [
              0.7777777777777778,
              "#fb9f3a"
             ],
             [
              0.8888888888888888,
              "#fdca26"
             ],
             [
              1,
              "#f0f921"
             ]
            ],
            "type": "histogram2d"
           }
          ],
          "histogram2dcontour": [
           {
            "colorbar": {
             "outlinewidth": 0,
             "ticks": ""
            },
            "colorscale": [
             [
              0,
              "#0d0887"
             ],
             [
              0.1111111111111111,
              "#46039f"
             ],
             [
              0.2222222222222222,
              "#7201a8"
             ],
             [
              0.3333333333333333,
              "#9c179e"
             ],
             [
              0.4444444444444444,
              "#bd3786"
             ],
             [
              0.5555555555555556,
              "#d8576b"
             ],
             [
              0.6666666666666666,
              "#ed7953"
             ],
             [
              0.7777777777777778,
              "#fb9f3a"
             ],
             [
              0.8888888888888888,
              "#fdca26"
             ],
             [
              1,
              "#f0f921"
             ]
            ],
            "type": "histogram2dcontour"
           }
          ],
          "mesh3d": [
           {
            "colorbar": {
             "outlinewidth": 0,
             "ticks": ""
            },
            "type": "mesh3d"
           }
          ],
          "parcoords": [
           {
            "line": {
             "colorbar": {
              "outlinewidth": 0,
              "ticks": ""
             }
            },
            "type": "parcoords"
           }
          ],
          "pie": [
           {
            "automargin": true,
            "type": "pie"
           }
          ],
          "scatter": [
           {
            "fillpattern": {
             "fillmode": "overlay",
             "size": 10,
             "solidity": 0.2
            },
            "type": "scatter"
           }
          ],
          "scatter3d": [
           {
            "line": {
             "colorbar": {
              "outlinewidth": 0,
              "ticks": ""
             }
            },
            "marker": {
             "colorbar": {
              "outlinewidth": 0,
              "ticks": ""
             }
            },
            "type": "scatter3d"
           }
          ],
          "scattercarpet": [
           {
            "marker": {
             "colorbar": {
              "outlinewidth": 0,
              "ticks": ""
             }
            },
            "type": "scattercarpet"
           }
          ],
          "scattergeo": [
           {
            "marker": {
             "colorbar": {
              "outlinewidth": 0,
              "ticks": ""
             }
            },
            "type": "scattergeo"
           }
          ],
          "scattergl": [
           {
            "marker": {
             "colorbar": {
              "outlinewidth": 0,
              "ticks": ""
             }
            },
            "type": "scattergl"
           }
          ],
          "scattermap": [
           {
            "marker": {
             "colorbar": {
              "outlinewidth": 0,
              "ticks": ""
             }
            },
            "type": "scattermap"
           }
          ],
          "scattermapbox": [
           {
            "marker": {
             "colorbar": {
              "outlinewidth": 0,
              "ticks": ""
             }
            },
            "type": "scattermapbox"
           }
          ],
          "scatterpolar": [
           {
            "marker": {
             "colorbar": {
              "outlinewidth": 0,
              "ticks": ""
             }
            },
            "type": "scatterpolar"
           }
          ],
          "scatterpolargl": [
           {
            "marker": {
             "colorbar": {
              "outlinewidth": 0,
              "ticks": ""
             }
            },
            "type": "scatterpolargl"
           }
          ],
          "scatterternary": [
           {
            "marker": {
             "colorbar": {
              "outlinewidth": 0,
              "ticks": ""
             }
            },
            "type": "scatterternary"
           }
          ],
          "surface": [
           {
            "colorbar": {
             "outlinewidth": 0,
             "ticks": ""
            },
            "colorscale": [
             [
              0,
              "#0d0887"
             ],
             [
              0.1111111111111111,
              "#46039f"
             ],
             [
              0.2222222222222222,
              "#7201a8"
             ],
             [
              0.3333333333333333,
              "#9c179e"
             ],
             [
              0.4444444444444444,
              "#bd3786"
             ],
             [
              0.5555555555555556,
              "#d8576b"
             ],
             [
              0.6666666666666666,
              "#ed7953"
             ],
             [
              0.7777777777777778,
              "#fb9f3a"
             ],
             [
              0.8888888888888888,
              "#fdca26"
             ],
             [
              1,
              "#f0f921"
             ]
            ],
            "type": "surface"
           }
          ],
          "table": [
           {
            "cells": {
             "fill": {
              "color": "#EBF0F8"
             },
             "line": {
              "color": "white"
             }
            },
            "header": {
             "fill": {
              "color": "#C8D4E3"
             },
             "line": {
              "color": "white"
             }
            },
            "type": "table"
           }
          ]
         },
         "layout": {
          "annotationdefaults": {
           "arrowcolor": "#2a3f5f",
           "arrowhead": 0,
           "arrowwidth": 1
          },
          "autotypenumbers": "strict",
          "coloraxis": {
           "colorbar": {
            "outlinewidth": 0,
            "ticks": ""
           }
          },
          "colorscale": {
           "diverging": [
            [
             0,
             "#8e0152"
            ],
            [
             0.1,
             "#c51b7d"
            ],
            [
             0.2,
             "#de77ae"
            ],
            [
             0.3,
             "#f1b6da"
            ],
            [
             0.4,
             "#fde0ef"
            ],
            [
             0.5,
             "#f7f7f7"
            ],
            [
             0.6,
             "#e6f5d0"
            ],
            [
             0.7,
             "#b8e186"
            ],
            [
             0.8,
             "#7fbc41"
            ],
            [
             0.9,
             "#4d9221"
            ],
            [
             1,
             "#276419"
            ]
           ],
           "sequential": [
            [
             0,
             "#0d0887"
            ],
            [
             0.1111111111111111,
             "#46039f"
            ],
            [
             0.2222222222222222,
             "#7201a8"
            ],
            [
             0.3333333333333333,
             "#9c179e"
            ],
            [
             0.4444444444444444,
             "#bd3786"
            ],
            [
             0.5555555555555556,
             "#d8576b"
            ],
            [
             0.6666666666666666,
             "#ed7953"
            ],
            [
             0.7777777777777778,
             "#fb9f3a"
            ],
            [
             0.8888888888888888,
             "#fdca26"
            ],
            [
             1,
             "#f0f921"
            ]
           ],
           "sequentialminus": [
            [
             0,
             "#0d0887"
            ],
            [
             0.1111111111111111,
             "#46039f"
            ],
            [
             0.2222222222222222,
             "#7201a8"
            ],
            [
             0.3333333333333333,
             "#9c179e"
            ],
            [
             0.4444444444444444,
             "#bd3786"
            ],
            [
             0.5555555555555556,
             "#d8576b"
            ],
            [
             0.6666666666666666,
             "#ed7953"
            ],
            [
             0.7777777777777778,
             "#fb9f3a"
            ],
            [
             0.8888888888888888,
             "#fdca26"
            ],
            [
             1,
             "#f0f921"
            ]
           ]
          },
          "colorway": [
           "#636efa",
           "#EF553B",
           "#00cc96",
           "#ab63fa",
           "#FFA15A",
           "#19d3f3",
           "#FF6692",
           "#B6E880",
           "#FF97FF",
           "#FECB52"
          ],
          "font": {
           "color": "#2a3f5f"
          },
          "geo": {
           "bgcolor": "white",
           "lakecolor": "white",
           "landcolor": "#E5ECF6",
           "showlakes": true,
           "showland": true,
           "subunitcolor": "white"
          },
          "hoverlabel": {
           "align": "left"
          },
          "hovermode": "closest",
          "mapbox": {
           "style": "light"
          },
          "paper_bgcolor": "white",
          "plot_bgcolor": "#E5ECF6",
          "polar": {
           "angularaxis": {
            "gridcolor": "white",
            "linecolor": "white",
            "ticks": ""
           },
           "bgcolor": "#E5ECF6",
           "radialaxis": {
            "gridcolor": "white",
            "linecolor": "white",
            "ticks": ""
           }
          },
          "scene": {
           "xaxis": {
            "backgroundcolor": "#E5ECF6",
            "gridcolor": "white",
            "gridwidth": 2,
            "linecolor": "white",
            "showbackground": true,
            "ticks": "",
            "zerolinecolor": "white"
           },
           "yaxis": {
            "backgroundcolor": "#E5ECF6",
            "gridcolor": "white",
            "gridwidth": 2,
            "linecolor": "white",
            "showbackground": true,
            "ticks": "",
            "zerolinecolor": "white"
           },
           "zaxis": {
            "backgroundcolor": "#E5ECF6",
            "gridcolor": "white",
            "gridwidth": 2,
            "linecolor": "white",
            "showbackground": true,
            "ticks": "",
            "zerolinecolor": "white"
           }
          },
          "shapedefaults": {
           "line": {
            "color": "#2a3f5f"
           }
          },
          "ternary": {
           "aaxis": {
            "gridcolor": "white",
            "linecolor": "white",
            "ticks": ""
           },
           "baxis": {
            "gridcolor": "white",
            "linecolor": "white",
            "ticks": ""
           },
           "bgcolor": "#E5ECF6",
           "caxis": {
            "gridcolor": "white",
            "linecolor": "white",
            "ticks": ""
           }
          },
          "title": {
           "x": 0.05
          },
          "xaxis": {
           "automargin": true,
           "gridcolor": "white",
           "linecolor": "white",
           "ticks": "",
           "title": {
            "standoff": 15
           },
           "zerolinecolor": "white",
           "zerolinewidth": 2
          },
          "yaxis": {
           "automargin": true,
           "gridcolor": "white",
           "linecolor": "white",
           "ticks": "",
           "title": {
            "standoff": 15
           },
           "zerolinecolor": "white",
           "zerolinewidth": 2
          }
         }
        },
        "title": {
         "font": {
          "size": 18
         },
         "text": "Token Reusability Visualization<br><sub>How Subwords Create Efficient AI Vocabulary</sub>",
         "x": 0.5
        },
        "width": 1000
       }
      },
      "image/png": "[encoded data removed]"
     },
     "metadata": {},
     "output_type": "display_data"
    },
    {
     "name": "stdout",
     "output_type": "stream",
     "text": [
      "\n",
      "=== KEY INSIGHTS ===\n",
      "\n",
      "1. TOKEN REUSABILITY EXAMPLES:\n",
      "   'un' appears in: unbreakable, understand, unable, unforeseen, unexpected, understandable, unhappy\n",
      "   'break' appears in: unbreakable, breaking, outbreak, break\n",
      "   'able' appears in: unbreakable, unable, understandable, capable, reliable, readable, comfortable, able, learnable\n",
      "   'derstand' appears in: understand, understandable\n",
      "   'ed' appears in: unexpected, walked\n",
      "   'ing' appears in: breaking, running, walking, developing, teaching, relearning\n",
      "   're' appears in: reliable, readable, redevelop, relearning\n",
      "   'happy' appears in: happy, unhappy\n",
      "   'runn' appears in: running, runner\n",
      "   'er' appears in: runner, walker, developer, teacher\n",
      "   'walk' appears in: walked, walking, walker\n",
      "   'develop' appears in: developer, developing, redevelop\n",
      "   'teach' appears in: teaching, teacher\n",
      "   'learn' appears in: learnable, relearning\n",
      "\n",
      "2. EFFICIENCY GAINS:\n",
      "   - Original words: 33 words, 275 characters\n",
      "   - Unique tokens: 27 tokens\n",
      "   - Vocabulary reduction: 18.2%\n",
      "\n",
      "3. WHY THIS MATTERS FOR AI:\n",
      "   ✓ Smaller vocabulary = faster training\n",
      "   ✓ Token reuse = better generalization\n",
      "   ✓ Unknown words = handleable through subwords\n",
      "   ✓ Similar tokens cluster together in meaning\n",
      "\n",
      "=== token reusability visualization done ===\n"
     ]
    }
   ],
   "source": [
    "# Token frequency analysis\n",
    "token_counts = Counter(all_tokens)\n",
    "unique_tokens = list(token_counts.keys())\n",
    "\n",
    "print(f\"\\nTotal words: {len(sample_words)}\")\n",
    "print(f\"Total unique tokens: {len(unique_tokens)}\")\n",
    "print(f\"Compression ratio: {len(sample_words) / len(unique_tokens):.2f}x\")\n",
    "\n",
    "print(\"\\nMost reused tokens:\")\n",
    "for token, count in token_counts.most_common(10):\n",
    "    print(f\"  '{token}': used {count} times\")\n",
    "\n",
    "# Create simple embeddings using TF-IDF\n",
    "print(\"\\nCreating simple embeddings using TF-IDF...\")\n",
    "\n",
    "# Prepare documents (each token as a 'document')\n",
    "token_documents = []\n",
    "for token in unique_tokens:\n",
    "    # Create a document from character n-grams to capture similarity\n",
    "    chars = list(token)\n",
    "    char_ngrams = [''.join(chars[i:i+2]) for i in range(len(chars)-1)]\n",
    "    token_documents.append(' '.join(char_ngrams + [token]))\n",
    "\n",
    "# Create TF-IDF vectors\n",
    "vectorizer = TfidfVectorizer(max_features=50, ngram_range=(1,2))\n",
    "embeddings = vectorizer.fit_transform(token_documents).toarray()\n",
    "\n",
    "print(f\"Created embeddings shape: {embeddings.shape}\")\n",
    "\n",
    "# Reduce to 3D using PCA\n",
    "pca = PCA(n_components=3)\n",
    "embeddings_3d = pca.fit_transform(embeddings)\n",
    "\n",
    "# Categorize tokens for visualization\n",
    "def categorize_token(token):\n",
    "    if token in ['un', 're', 'pre', 'dis', 'mis', 'over', 'under']:\n",
    "        return 'Prefixes'\n",
    "    elif token in ['ing', 'ed', 'er', 'est', 'ly', 'tion', 'able', 'ness']:\n",
    "        return 'Suffixes'\n",
    "    elif token in ['break', 'stand', 'develop', 'run', 'walk', 'learn', 'teach']:\n",
    "        return 'Common Roots'\n",
    "    elif len(token) <= 2:\n",
    "        return 'Short Tokens'\n",
    "    else:\n",
    "        return 'Word Stems'\n",
    "\n",
    "# Create visualization dataframe\n",
    "df_viz = pd.DataFrame({\n",
    "    'token': unique_tokens,\n",
    "    'x': embeddings_3d[:, 0],\n",
    "    'y': embeddings_3d[:, 1],\n",
    "    'z': embeddings_3d[:, 2],\n",
    "    'frequency': [token_counts[token] for token in unique_tokens],\n",
    "    'category': [categorize_token(token) for token in unique_tokens]\n",
    "})\n",
    "\n",
    "# Create 3D plot\n",
    "fig = go.Figure()\n",
    "\n",
    "categories = df_viz['category'].unique()\n",
    "colors = ['#FF6B6B', '#4ECDC4', '#45B7D1', '#FFA07A', '#98D8C8', '#F7DC6F']\n",
    "\n",
    "for i, category in enumerate(categories):\n",
    "    mask = df_viz['category'] == category\n",
    "    subset = df_viz[mask]\n",
    "    \n",
    "    fig.add_trace(go.Scatter3d(\n",
    "        x=subset['x'],\n",
    "        y=subset['y'],\n",
    "        z=subset['z'],\n",
    "        mode='markers+text',\n",
    "        marker=dict(\n",
    "            size=subset['frequency'] * 4 + 8,\n",
    "            color=colors[i % len(colors)],\n",
    "            opacity=0.8,\n",
    "            line=dict(width=2, color='white')\n",
    "        ),\n",
    "        text=subset['token'],\n",
    "        textposition='middle center',\n",
    "        textfont=dict(size=12, color='black'),\n",
    "        name=category,\n",
    "        hovertemplate=\n",
    "        '<b>Token:</b> %{text}<br>' +\n",
    "        '<b>Category:</b> ' + category + '<br>' +\n",
    "        '<b>Used in:</b> %{marker.size} words<br>' +\n",
    "        '<extra></extra>'\n",
    "    ))\n",
    "\n",
    "fig.update_layout(\n",
    "    title={\n",
    "        'text': 'Token Reusability Visualization<br><sub>How Subwords Create Efficient AI Vocabulary</sub>',\n",
    "        'x': 0.5,\n",
    "        'font': {'size': 18}\n",
    "    },\n",
    "    scene=dict(\n",
    "        xaxis_title='Similarity Dimension 1',\n",
    "        yaxis_title='Similarity Dimension 2',\n",
    "        zaxis_title='Similarity Dimension 3',\n",
    "        camera=dict(eye=dict(x=1.3, y=1.3, z=1.3))\n",
    "    ),\n",
    "    width=1000,\n",
    "    height=700,\n",
    "    showlegend=True\n",
    ")\n",
    "\n",
    "fig.show()\n",
    "\n",
    "# Show the efficiency\n",
    "print(\"\\n=== KEY INSIGHTS ===\")\n",
    "\n",
    "# Find examples of token reuse\n",
    "reuse_examples = {}\n",
    "for result in tokenization_results:\n",
    "    for token in result['tokens']:\n",
    "        if token not in reuse_examples:\n",
    "            reuse_examples[token] = []\n",
    "        reuse_examples[token].append(result['word'])\n",
    "\n",
    "print(\"\\n1. TOKEN REUSABILITY EXAMPLES:\")\n",
    "for token, words in reuse_examples.items():\n",
    "    if len(words) > 1:\n",
    "        print(f\"   '{token}' appears in: {', '.join(words)}\")\n",
    "\n",
    "print(\"\\n2. EFFICIENCY GAINS:\")\n",
    "total_chars_original = sum(len(word) for word in sample_words)\n",
    "total_chars_tokens = sum(len(token) for token in all_tokens)\n",
    "print(f\"   - Original words: {len(sample_words)} words, {total_chars_original} characters\")\n",
    "print(f\"   - Unique tokens: {len(unique_tokens)} tokens\")\n",
    "print(f\"   - Vocabulary reduction: {(1 - len(unique_tokens)/len(sample_words))*100:.1f}%\")\n",
    "\n",
    "print(\"\\n3. WHY THIS MATTERS FOR AI:\")\n",
    "print(\"   ✓ Smaller vocabulary = faster training\")\n",
    "print(\"   ✓ Token reuse = better generalization\") \n",
    "print(\"   ✓ Unknown words = handleable through subwords\")\n",
    "print(\"   ✓ Similar tokens cluster together in meaning\")\n",
    "\n",
    "print(\"\\n=== token reusability visualization done ===\")"
   ]
  },
  {
   "cell_type": "markdown",
   "id": "0m3ldm8iwx0c",
   "metadata": {},
   "source": [
    "## Tokenization Results & Analysis\n",
    "\n",
    "This section analyzes the tokenization results to demonstrate the efficiency gains:\n",
    "\n",
    "### What We're Measuring:\n",
    "1. **Token Reusability**: How many times each token appears across different words\n",
    "2. **Vocabulary Compression**: How much we reduce the vocabulary size\n",
    "3. **Embedding Efficiency**: How tokens cluster in semantic space\n",
    "\n",
    "### Key Insights to Look For:\n",
    "- **High-frequency tokens**: \"un\", \"able\", \"ing\", \"er\" appear in many words\n",
    "- **Semantic clustering**: Similar tokens (prefixes, suffixes, roots) group together\n",
    "- **Vocabulary reduction**: Fewer unique tokens than original words\n",
    "\n",
    "### Why This Matters for Transformers:\n",
    "- **Memory efficiency**: Fewer embeddings to store and compute\n",
    "- **Training speed**: Smaller vocabulary = faster gradient updates  \n",
    "- **Generalization**: Shared tokens help model understand word relationships\n",
    "- **Unknown word handling**: Can tokenize new words using familiar patterns\n",
    "\n",
    "Let's analyze the tokenization results:"
   ]
  },
  {
   "cell_type": "code",
   "execution_count": null,
   "id": "625607f0-2d80-4072-a6a6-f5d4529942ae",
   "metadata": {},
   "outputs": [],
   "source": []
  },
  {
   "cell_type": "markdown",
   "id": "euwb3movp4k",
   "metadata": {},
   "source": [
    "## Why Tokenization is Essential for Transformers\n",
    "\n",
    "### The Scale Problem\n",
    "Modern language models process **billions of words** from internet text, books, and articles. Consider:\n",
    "- **GPT-3**: Trained on 45TB of text data\n",
    "- **English vocabulary**: 170,000+ words in current use\n",
    "- **Including names, technical terms, slang**: Millions of unique \"words\"\n",
    "\n",
    "### Without Tokenization (Word-Level Embeddings):\n",
    "❌ **Massive vocabulary**: Need embeddings for millions of unique words  \n",
    "❌ **Memory explosion**: Each word needs its own 1024+ dimensional vector  \n",
    "❌ **Rare word problem**: Most words appear very few times in training data  \n",
    "❌ **Unknown words**: Model fails completely on new words  \n",
    "❌ **No generalization**: Can't understand \"unhappy\" if it only saw \"happy\"\n",
    "\n",
    "### With Tokenization (Subword-Level Embeddings):\n",
    "✅ **Compact vocabulary**: ~30,000-50,000 tokens covers most languages  \n",
    "✅ **Efficient memory**: Dramatically fewer embeddings to store  \n",
    "✅ **Better learning**: Common tokens like \"un-\", \"-ing\", \"-ed\" appear frequently  \n",
    "✅ **Handles unknowns**: Can tokenize any new word using known subword patterns  \n",
    "✅ **Semantic relationships**: Model learns that \"break\" in \"unbreakable\" relates to \"breaking\"  \n",
    "\n",
    "### Real-World Impact:\n",
    "- **GPT models**: Use ~50K tokens instead of millions of words\n",
    "- **BERT**: 30K WordPiece tokens handle 100+ languages efficiently  \n",
    "- **Training time**: Reduced from years to months due to smaller vocabulary\n",
    "- **Inference speed**: Faster text processing with compact token representations\n",
    "\n",
    "### Mathematical Efficiency:\n",
    "```\n",
    "Word-level: 1M words × 1024 dimensions = 1B parameters just for embeddings\n",
    "Token-level: 50K tokens × 1024 dimensions = 50M parameters (20x reduction!)\n",
    "```\n",
    "\n",
    "This is why **every modern language model** uses tokenization - it's not just an optimization, it's what makes large-scale language AI possible!"
   ]
  }
 ],
 "metadata": {
  "kernelspec": {
   "display_name": "Python 3 (ipykernel)",
   "language": "python",
   "name": "python3"
  },
  "language_info": {
   "codemirror_mode": {
    "name": "ipython",
    "version": 3
   },
   "file_extension": ".py",
   "mimetype": "text/x-python",
   "name": "python",
   "nbconvert_exporter": "python",
   "pygments_lexer": "ipython3",
   "version": "3.9.6"
  }
 },
 "nbformat": 4,
 "nbformat_minor": 5
}
