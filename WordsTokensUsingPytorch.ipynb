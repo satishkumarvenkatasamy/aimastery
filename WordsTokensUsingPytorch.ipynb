{
 "cells": [
  {
   "cell_type": "code",
   "execution_count": 1,
   "id": "4f5784cb-0e1a-492d-890d-b6a4107970ff",
   "metadata": {},
   "outputs": [
    {
     "name": "stdout",
     "output_type": "stream",
     "text": [
      "Collecting nltk\n",
      "  Using cached nltk-3.9.1-py3-none-any.whl.metadata (2.9 kB)\n",
      "Collecting click (from nltk)\n",
      "  Using cached click-8.2.1-py3-none-any.whl.metadata (2.5 kB)\n",
      "Collecting joblib (from nltk)\n",
      "  Downloading joblib-1.5.1-py3-none-any.whl.metadata (5.6 kB)\n",
      "Collecting regex>=2021.8.3 (from nltk)\n",
      "  Downloading regex-2024.11.6-cp313-cp313-macosx_11_0_arm64.whl.metadata (40 kB)\n",
      "Collecting tqdm (from nltk)\n",
      "  Using cached tqdm-4.67.1-py3-none-any.whl.metadata (57 kB)\n",
      "Using cached nltk-3.9.1-py3-none-any.whl (1.5 MB)\n",
      "Downloading regex-2024.11.6-cp313-cp313-macosx_11_0_arm64.whl (284 kB)\n",
      "Using cached click-8.2.1-py3-none-any.whl (102 kB)\n",
      "Downloading joblib-1.5.1-py3-none-any.whl (307 kB)\n",
      "Using cached tqdm-4.67.1-py3-none-any.whl (78 kB)\n",
      "Installing collected packages: tqdm, regex, joblib, click, nltk\n",
      "\u001b[2K   \u001b[90m━━━━━━━━━━━━━━━━━━━━━━━━━━━━━━━━━━━━━━━━\u001b[0m \u001b[32m5/5\u001b[0m [nltk][32m4/5\u001b[0m [nltk]b]\n",
      "\u001b[1A\u001b[2KSuccessfully installed click-8.2.1 joblib-1.5.1 nltk-3.9.1 regex-2024.11.6 tqdm-4.67.1\n"
     ]
    }
   ],
   "source": [
    "!pip install nltk"
   ]
  },
  {
   "cell_type": "code",
   "execution_count": 2,
   "id": "a948274c-a880-477a-bec6-3a1cf08d79ed",
   "metadata": {},
   "outputs": [
    {
     "name": "stderr",
     "output_type": "stream",
     "text": [
      "[nltk_data] Downloading package punkt_tab to\n",
      "[nltk_data]     /Users/satishkumar/nltk_data...\n",
      "[nltk_data]   Package punkt_tab is already up-to-date!\n"
     ]
    },
    {
     "data": {
      "text/plain": [
       "True"
      ]
     },
     "execution_count": 2,
     "metadata": {},
     "output_type": "execute_result"
    }
   ],
   "source": [
    "import nltk\n",
    "nltk.download('punkt_tab')"
   ]
  },
  {
   "cell_type": "code",
   "execution_count": 3,
   "id": "f30b9319-494a-4174-a0cf-2954996d4fa9",
   "metadata": {},
   "outputs": [],
   "source": [
    "from nltk.tokenize import word_tokenize, sent_tokenize"
   ]
  },
  {
   "cell_type": "code",
   "execution_count": 4,
   "id": "f91d6b0f-0d7b-4f5e-afcd-3e790c357af1",
   "metadata": {},
   "outputs": [
    {
     "name": "stdout",
     "output_type": "stream",
     "text": [
      "Words: ['It', 'is', 'an', 'unbreakable', 'chair', 'and', 'in', 'unforeseen', 'circumstances', 'too', ',', 'it', 'will', 'withstand', 'any', 'forces', '.']\n",
      "Sentences: ['It is an unbreakable chair and in unforeseen circumstances too, it will withstand any forces.']\n"
     ]
    }
   ],
   "source": [
    "text = \"This is an example sentence. It contains multiple sentences and words.\"\n",
    "text = \"It is an unbreakable chair and in unforeseen circumstances too, it will withstand any forces.\"\n",
    "words = word_tokenize(text)\n",
    "sentences = sent_tokenize(text)\n",
    "print(\"Words:\", words)\n",
    "print(\"Sentences:\", sentences)"
   ]
  },
  {
   "cell_type": "code",
   "execution_count": 5,
   "id": "b60d5e03-d3a7-4c36-a5cd-bcbdbc545e5e",
   "metadata": {},
   "outputs": [
    {
     "name": "stdout",
     "output_type": "stream",
     "text": [
      "Collecting transformers\n",
      "  Using cached transformers-4.53.1-py3-none-any.whl.metadata (40 kB)\n",
      "Collecting filelock (from transformers)\n",
      "  Using cached filelock-3.18.0-py3-none-any.whl.metadata (2.9 kB)\n",
      "Collecting huggingface-hub<1.0,>=0.30.0 (from transformers)\n",
      "  Downloading huggingface_hub-0.33.3-py3-none-any.whl.metadata (14 kB)\n",
      "Requirement already satisfied: numpy>=1.17 in /Users/satishkumar/pythonvirtualenvs/gmailenv/lib/python3.13/site-packages (from transformers) (2.3.1)\n",
      "Requirement already satisfied: packaging>=20.0 in /Users/satishkumar/pythonvirtualenvs/gmailenv/lib/python3.13/site-packages (from transformers) (25.0)\n",
      "Requirement already satisfied: pyyaml>=5.1 in /Users/satishkumar/pythonvirtualenvs/gmailenv/lib/python3.13/site-packages (from transformers) (6.0.2)\n",
      "Requirement already satisfied: regex!=2019.12.17 in /Users/satishkumar/pythonvirtualenvs/gmailenv/lib/python3.13/site-packages (from transformers) (2024.11.6)\n",
      "Requirement already satisfied: requests in /Users/satishkumar/pythonvirtualenvs/gmailenv/lib/python3.13/site-packages (from transformers) (2.32.4)\n",
      "Collecting tokenizers<0.22,>=0.21 (from transformers)\n",
      "  Using cached tokenizers-0.21.2-cp39-abi3-macosx_11_0_arm64.whl.metadata (6.8 kB)\n",
      "Collecting safetensors>=0.4.3 (from transformers)\n",
      "  Using cached safetensors-0.5.3-cp38-abi3-macosx_11_0_arm64.whl.metadata (3.8 kB)\n",
      "Requirement already satisfied: tqdm>=4.27 in /Users/satishkumar/pythonvirtualenvs/gmailenv/lib/python3.13/site-packages (from transformers) (4.67.1)\n",
      "Collecting fsspec>=2023.5.0 (from huggingface-hub<1.0,>=0.30.0->transformers)\n",
      "  Using cached fsspec-2025.5.1-py3-none-any.whl.metadata (11 kB)\n",
      "Requirement already satisfied: typing-extensions>=3.7.4.3 in /Users/satishkumar/pythonvirtualenvs/gmailenv/lib/python3.13/site-packages (from huggingface-hub<1.0,>=0.30.0->transformers) (4.14.1)\n",
      "Collecting hf-xet<2.0.0,>=1.1.2 (from huggingface-hub<1.0,>=0.30.0->transformers)\n",
      "  Using cached hf_xet-1.1.5-cp37-abi3-macosx_11_0_arm64.whl.metadata (879 bytes)\n",
      "Requirement already satisfied: charset_normalizer<4,>=2 in /Users/satishkumar/pythonvirtualenvs/gmailenv/lib/python3.13/site-packages (from requests->transformers) (3.4.2)\n",
      "Requirement already satisfied: idna<4,>=2.5 in /Users/satishkumar/pythonvirtualenvs/gmailenv/lib/python3.13/site-packages (from requests->transformers) (3.10)\n",
      "Requirement already satisfied: urllib3<3,>=1.21.1 in /Users/satishkumar/pythonvirtualenvs/gmailenv/lib/python3.13/site-packages (from requests->transformers) (2.5.0)\n",
      "Requirement already satisfied: certifi>=2017.4.17 in /Users/satishkumar/pythonvirtualenvs/gmailenv/lib/python3.13/site-packages (from requests->transformers) (2025.6.15)\n",
      "Using cached transformers-4.53.1-py3-none-any.whl (10.8 MB)\n",
      "Downloading huggingface_hub-0.33.3-py3-none-any.whl (515 kB)\n",
      "Using cached hf_xet-1.1.5-cp37-abi3-macosx_11_0_arm64.whl (2.6 MB)\n",
      "Using cached tokenizers-0.21.2-cp39-abi3-macosx_11_0_arm64.whl (2.7 MB)\n",
      "Using cached fsspec-2025.5.1-py3-none-any.whl (199 kB)\n",
      "Using cached safetensors-0.5.3-cp38-abi3-macosx_11_0_arm64.whl (418 kB)\n",
      "Using cached filelock-3.18.0-py3-none-any.whl (16 kB)\n",
      "Installing collected packages: safetensors, hf-xet, fsspec, filelock, huggingface-hub, tokenizers, transformers\n",
      "\u001b[2K   \u001b[90m━━━━━━━━━━━━━━━━━━━━━━━━━━━━━━━━━━━━━━━━\u001b[0m \u001b[32m7/7\u001b[0m [transformers][0m [transformers]ub]\n",
      "\u001b[1A\u001b[2KSuccessfully installed filelock-3.18.0 fsspec-2025.5.1 hf-xet-1.1.5 huggingface-hub-0.33.3 safetensors-0.5.3 tokenizers-0.21.2 transformers-4.53.1\n"
     ]
    }
   ],
   "source": [
    "!pip install transformers"
   ]
  },
  {
   "cell_type": "code",
   "execution_count": 6,
   "id": "882a93a6-8818-417f-9be7-7d13f358fe59",
   "metadata": {},
   "outputs": [
    {
     "name": "stdout",
     "output_type": "stream",
     "text": [
      "Collecting torch\n",
      "  Downloading torch-2.7.1-cp313-none-macosx_11_0_arm64.whl.metadata (29 kB)\n",
      "Requirement already satisfied: filelock in /Users/satishkumar/pythonvirtualenvs/gmailenv/lib/python3.13/site-packages (from torch) (3.18.0)\n",
      "Requirement already satisfied: typing-extensions>=4.10.0 in /Users/satishkumar/pythonvirtualenvs/gmailenv/lib/python3.13/site-packages (from torch) (4.14.1)\n",
      "Requirement already satisfied: setuptools in /Users/satishkumar/pythonvirtualenvs/gmailenv/lib/python3.13/site-packages (from torch) (80.9.0)\n",
      "Collecting sympy>=1.13.3 (from torch)\n",
      "  Using cached sympy-1.14.0-py3-none-any.whl.metadata (12 kB)\n",
      "Collecting networkx (from torch)\n",
      "  Downloading networkx-3.5-py3-none-any.whl.metadata (6.3 kB)\n",
      "Requirement already satisfied: jinja2 in /Users/satishkumar/pythonvirtualenvs/gmailenv/lib/python3.13/site-packages (from torch) (3.1.6)\n",
      "Requirement already satisfied: fsspec in /Users/satishkumar/pythonvirtualenvs/gmailenv/lib/python3.13/site-packages (from torch) (2025.5.1)\n",
      "Collecting mpmath<1.4,>=1.1.0 (from sympy>=1.13.3->torch)\n",
      "  Using cached mpmath-1.3.0-py3-none-any.whl.metadata (8.6 kB)\n",
      "Requirement already satisfied: MarkupSafe>=2.0 in /Users/satishkumar/pythonvirtualenvs/gmailenv/lib/python3.13/site-packages (from jinja2->torch) (3.0.2)\n",
      "Downloading torch-2.7.1-cp313-none-macosx_11_0_arm64.whl (68.6 MB)\n",
      "\u001b[2K   \u001b[90m━━━━━━━━━━━━━━━━━━━━━━━━━━━━━━━━━━━━━━━━\u001b[0m \u001b[32m68.6/68.6 MB\u001b[0m \u001b[31m16.0 MB/s\u001b[0m eta \u001b[36m0:00:00\u001b[0m00:01\u001b[0m00:01\u001b[0m\n",
      "\u001b[?25hUsing cached sympy-1.14.0-py3-none-any.whl (6.3 MB)\n",
      "Using cached mpmath-1.3.0-py3-none-any.whl (536 kB)\n",
      "Downloading networkx-3.5-py3-none-any.whl (2.0 MB)\n",
      "\u001b[2K   \u001b[90m━━━━━━━━━━━━━━━━━━━━━━━━━━━━━━━━━━━━━━━━\u001b[0m \u001b[32m2.0/2.0 MB\u001b[0m \u001b[31m22.5 MB/s\u001b[0m eta \u001b[36m0:00:00\u001b[0m\n",
      "\u001b[?25hInstalling collected packages: mpmath, sympy, networkx, torch\n",
      "\u001b[2K   \u001b[90m━━━━━━━━━━━━━━━━━━━━━━━━━━━━━━━━━━━━━━━━\u001b[0m \u001b[32m4/4\u001b[0m [torch]32m3/4\u001b[0m [torch]kx]\n",
      "\u001b[1A\u001b[2KSuccessfully installed mpmath-1.3.0 networkx-3.5 sympy-1.14.0 torch-2.7.1\n"
     ]
    }
   ],
   "source": [
    "!pip install torch"
   ]
  },
  {
   "cell_type": "code",
   "execution_count": null,
   "id": "247607ee-74b1-4f88-8b98-1557a0e90a4b",
   "metadata": {},
   "outputs": [],
   "source": [
    "!pip install plotly\n",
    "!pip install scikit-learn\n",
    "!pip install matplotlib"
   ]
  },
  {
   "cell_type": "code",
   "execution_count": 18,
   "id": "a11feaa9-b18c-4df6-81e1-cbcb50dbbb09",
   "metadata": {},
   "outputs": [
    {
     "data": {
      "text/html": [
       "        <script type=\"text/javascript\">\n",
       "        window.PlotlyConfig = {MathJaxConfig: 'local'};\n",
       "        if (window.MathJax && window.MathJax.Hub && window.MathJax.Hub.Config) {window.MathJax.Hub.Config({SVG: {font: \"STIX-Web\"}});}\n",
       "        </script>\n",
       "        <script type=\"module\">import \"https://cdn.plot.ly/plotly-3.0.1.min\"</script>\n",
       "        "
      ]
     },
     "metadata": {},
     "output_type": "display_data"
    },
    {
     "name": "stdout",
     "output_type": "stream",
     "text": [
      "Plotly notebook mode initialized successfully\n",
      "All libraries imported successfully!\n"
     ]
    }
   ],
   "source": [
    "# 3D Token Visualization - AI Mastery Series Demo\n",
    "# This code demonstrates tokenization and 3D visualization of word embeddings\n",
    "\n",
    "# Install required packages (run this cell first)\n",
    "# !pip install transformers torch plotly pandas scikit-learn\n",
    "\n",
    "import numpy as np\n",
    "import pandas as pd\n",
    "import plotly.graph_objects as go\n",
    "import plotly.express as px\n",
    "from transformers import AutoTokenizer, AutoModel\n",
    "import torch\n",
    "from sklearn.decomposition import PCA\n",
    "from sklearn.manifold import TSNE\n",
    "import re\n",
    "from collections import Counter\n",
    "\n",
    "# Configure plotly for Jupyter notebooks\n",
    "import plotly.io as pio\n",
    "pio.renderers.default = \"notebook\"\n",
    "\n",
    "# For better compatibility across different environments\n",
    "try:\n",
    "    import plotly.offline as pyo\n",
    "    pyo.init_notebook_mode(connected=True)\n",
    "    print(\"Plotly notebook mode initialized successfully\")\n",
    "except:\n",
    "    print(\"Using default plotly renderer\")\n",
    "\n",
    "print(\"All libraries imported successfully!\")"
   ]
  },
  {
   "cell_type": "code",
   "execution_count": 20,
   "id": "91e77797-ac3a-4a6b-b42d-782138ac7884",
   "metadata": {},
   "outputs": [
    {
     "name": "stdout",
     "output_type": "stream",
     "text": [
      "Loading tokenizer and model...\n",
      "Sample words: 46 words\n",
      "\n",
      "=== TOKENIZATION ANALYSIS ===\n",
      "\n",
      "Word → Tokens breakdown:\n",
      "'unbreakable' → ['un', '##break', '##able'] (3 tokens)\n",
      "'understand' → ['understand'] (1 tokens)\n",
      "'unable' → ['unable'] (1 tokens)\n",
      "'unforeseen' → ['un', '##for', '##ese', '##en'] (4 tokens)\n",
      "'unexpected' → ['unexpected'] (1 tokens)\n",
      "'breaking' → ['breaking'] (1 tokens)\n",
      "'breakthrough' → ['breakthrough'] (1 tokens)\n",
      "'outbreak' → ['outbreak'] (1 tokens)\n",
      "'breakdown' → ['breakdown'] (1 tokens)\n",
      "'breakage' → ['break', '##age'] (2 tokens)\n",
      "\n",
      "Total unique tokens: 55\n",
      "Most common tokens:\n",
      "  'un': 3 times\n",
      "  '##able': 3 times\n",
      "  'understand': 2 times\n",
      "  'break': 2 times\n",
      "  '##break': 1 times\n",
      "  'unable': 1 times\n",
      "  '##for': 1 times\n",
      "  '##ese': 1 times\n",
      "  '##en': 1 times\n",
      "  'unexpected': 1 times\n"
     ]
    }
   ],
   "source": [
    "# Set up the tokenizer and model\n",
    "print(\"Loading tokenizer and model...\")\n",
    "tokenizer = AutoTokenizer.from_pretrained('bert-base-uncased')\n",
    "model = AutoModel.from_pretrained('bert-base-uncased')\n",
    "\n",
    "# Sample words for demonstration\n",
    "sample_words = [\n",
    "    # Your core example\n",
    "    \"unbreakable\", \"understand\", \"unable\", \"unforeseen\", \"unexpected\",\n",
    "    \"breaking\", \"breakthrough\", \"outbreak\", \"breakdown\", \"breakage\",\n",
    "    \"understandable\", \"capable\", \"reliable\", \"readable\", \"comfortable\",\n",
    "    \n",
    "    # Additional related words\n",
    "    \"break\", \"able\", \"un\", \"happy\", \"unhappy\", \"happiness\",\n",
    "    \"running\", \"runner\", \"run\", \"walked\", \"walking\", \"walk\",\n",
    "    \"development\", \"developer\", \"develop\", \"developing\",\n",
    "    \"artificial\", \"intelligence\", \"machine\", \"learning\", \"deep\",\n",
    "    \n",
    "    # Technical terms\n",
    "    \"tokenization\", \"embedding\", \"transformer\", \"attention\", \"neural\",\n",
    "    \"algorithm\", \"optimization\", \"gradient\", \"descent\", \"backpropagation\"\n",
    "]\n",
    "\n",
    "print(f\"Sample words: {len(sample_words)} words\")\n",
    "\n",
    "# Function to tokenize and get detailed breakdown\n",
    "def analyze_tokenization(words, tokenizer):\n",
    "    \"\"\"Analyze how words are tokenized\"\"\"\n",
    "    results = []\n",
    "    \n",
    "    for word in words:\n",
    "        # Tokenize the word\n",
    "        tokens = tokenizer.tokenize(word)\n",
    "        token_ids = tokenizer.convert_tokens_to_ids(tokens)\n",
    "        \n",
    "        results.append({\n",
    "            'word': word,\n",
    "            'tokens': tokens,\n",
    "            'token_count': len(tokens),\n",
    "            'token_ids': token_ids,\n",
    "            'reconstructed': tokenizer.convert_tokens_to_string(tokens)\n",
    "        })\n",
    "    \n",
    "    return results\n",
    "\n",
    "# Analyze tokenization\n",
    "print(\"\\n=== TOKENIZATION ANALYSIS ===\")\n",
    "tokenization_results = analyze_tokenization(sample_words, tokenizer)\n",
    "\n",
    "# Display tokenization breakdown\n",
    "print(\"\\nWord → Tokens breakdown:\")\n",
    "for result in tokenization_results[:10]:  # Show first 10\n",
    "    print(f\"'{result['word']}' → {result['tokens']} ({result['token_count']} tokens)\")\n",
    "\n",
    "# Create a comprehensive token analysis\n",
    "all_tokens = []\n",
    "token_word_mapping = []\n",
    "\n",
    "for result in tokenization_results:\n",
    "    for token in result['tokens']:\n",
    "        all_tokens.append(token)\n",
    "        token_word_mapping.append({\n",
    "            'token': token,\n",
    "            'original_word': result['word'],\n",
    "            'word_length': len(result['word']),\n",
    "            'token_count_in_word': result['token_count']\n",
    "        })\n",
    "\n",
    "# Count token frequency\n",
    "token_counts = Counter(all_tokens)\n",
    "print(f\"\\nTotal unique tokens: {len(token_counts)}\")\n",
    "print(\"Most common tokens:\")\n",
    "for token, count in token_counts.most_common(10):\n",
    "    print(f\"  '{token}': {count} times\")\n",
    "\n",
    "# Function to get embeddings for tokens\n",
    "def get_token_embeddings(tokens, tokenizer, model):\n",
    "    \"\"\"Get embeddings for tokens\"\"\"\n",
    "    embeddings = []\n",
    "    valid_tokens = []\n",
    "    \n",
    "    for token in tokens:\n",
    "        # Convert token to input format\n",
    "        token_id = tokenizer.convert_tokens_to_ids([token])[0]\n",
    "        \n",
    "        # Skip special tokens\n",
    "        if token_id != tokenizer.unk_token_id:\n",
    "            # Get embedding\n",
    "            with torch.no_grad():\n",
    "                inputs = tokenizer(token, return_tensors='pt', add_special_tokens=False)\n",
    "                outputs = model(**inputs)\n",
    "                # Use mean of last hidden state\n",
    "                embedding = outputs.last_hidden_state.mean(dim=1).squeeze().numpy()\n",
    "                embeddings.append(embedding)\n",
    "                valid_tokens.append(token)\n",
    "    \n",
    "    return np.array(embeddings), valid_tokens"
   ]
  },
  {
   "cell_type": "code",
   "execution_count": 23,
   "id": "e1ef4be7-b56d-412b-8df0-dd6468b5d8af",
   "metadata": {},
   "outputs": [
    {
     "name": "stdout",
     "output_type": "stream",
     "text": [
      "\n",
      "Generating embeddings for 55 unique tokens...\n",
      "Generated embeddings shape: (55, 768)\n",
      "\n",
      "Reducing dimensions to 3D using PCA...\n",
      "3D embeddings shape: (55, 3)\n",
      "Explained variance ratio: [0.1555297  0.08832376 0.07834704]\n",
      "Total explained variance: 0.322\n",
      "\n",
      "Creating 3D visualization...\n"
     ]
    },
    {
     "data": {
      "application/vnd.plotly.v1+json": {
       "config": {
        "plotlyServerURL": "https://plot.ly"
       },
       "data": [
        {
         "hovertemplate": "<b>Token:</b> %{text}<br><b>Category:</b> Prefix: un-<br><b>Frequency:</b> %{marker.size}<br><b>Coordinates:</b> (%{x:.2f}, %{y:.2f}, %{z:.2f})<br><extra></extra>",
         "marker": {
          "color": "rgb(141,211,199)",
          "line": {
           "color": "black",
           "width": 1
          },
          "opacity": 0.8,
          "size": {
           "bdata": "DgsICAg=",
           "dtype": "i1"
          }
         },
         "mode": "markers+text",
         "name": "Prefix: un-",
         "text": [
          "un",
          "understand",
          "unable",
          "unexpected",
          "unhappy"
         ],
         "textfont": {
          "size": 10
         },
         "textposition": "middle center",
         "type": "scatter3d",
         "x": {
          "bdata": "4FHUv7wbOEBHzf5AHKnXQHKeeT4=",
          "dtype": "f4"
         },
         "y": {
          "bdata": "Ex7SP47d1z9T3hrA+oSUwK6hvsA=",
          "dtype": "f4"
         },
         "z": {
          "bdata": "d2rBv5LribzHjqw/vkj9PwZWoMA=",
          "dtype": "f4"
         }
        },
        {
         "hovertemplate": "<b>Token:</b> %{text}<br><b>Category:</b> Contains: break<br><b>Frequency:</b> %{marker.size}<br><b>Coordinates:</b> (%{x:.2f}, %{y:.2f}, %{z:.2f})<br><extra></extra>",
         "marker": {
          "color": "rgb(255,255,179)",
          "line": {
           "color": "black",
           "width": 1
          },
          "opacity": 0.8,
          "size": {
           "bdata": "CAgICAs=",
           "dtype": "i1"
          }
         },
         "mode": "markers+text",
         "name": "Contains: break",
         "text": [
          "##break",
          "breakthrough",
          "outbreak",
          "breakdown",
          "break"
         ],
         "textfont": {
          "size": 10
         },
         "textposition": "middle center",
         "type": "scatter3d",
         "x": {
          "bdata": "/cykwLjxyb6lEfVA4JtpwEPjcMA=",
          "dtype": "f4"
         },
         "y": {
          "bdata": "bT+ev+eSdcCH2IPAO4D9P+rffT8=",
          "dtype": "f4"
         },
         "z": {
          "bdata": "wbdTQJM1sL9pIhFAn0IVwKNkG8A=",
          "dtype": "f4"
         }
        },
        {
         "hovertemplate": "<b>Token:</b> %{text}<br><b>Category:</b> Suffix: -able<br><b>Frequency:</b> %{marker.size}<br><b>Coordinates:</b> (%{x:.2f}, %{y:.2f}, %{z:.2f})<br><extra></extra>",
         "marker": {
          "color": "rgb(190,186,218)",
          "line": {
           "color": "black",
           "width": 1
          },
          "opacity": 0.8,
          "size": {
           "bdata": "DggICAg=",
           "dtype": "i1"
          }
         },
         "mode": "markers+text",
         "name": "Suffix: -able",
         "text": [
          "##able",
          "capable",
          "reliable",
          "comfortable",
          "able"
         ],
         "textfont": {
          "size": 10
         },
         "textposition": "middle center",
         "type": "scatter3d",
         "x": {
          "bdata": "PXOiwDkgNb/lbXhA4YklQF3mdz8=",
          "dtype": "f4"
         },
         "y": {
          "bdata": "vgXzv711i0AXlMm/Jma9wKlxF8A=",
          "dtype": "f4"
         },
         "z": {
          "bdata": "9SHiP7RqgMAdPwC+o9V7wAcVB8A=",
          "dtype": "f4"
         }
        },
        {
         "hovertemplate": "<b>Token:</b> %{text}<br><b>Category:</b> Other<br><b>Frequency:</b> %{marker.size}<br><b>Coordinates:</b> (%{x:.2f}, %{y:.2f}, %{z:.2f})<br><extra></extra>",
         "marker": {
          "color": "rgb(251,128,114)",
          "line": {
           "color": "black",
           "width": 1
          },
          "opacity": 0.8,
          "size": {
           "bdata": "CAgICAgICAgICAgICAgICAgICAgICAgICAgICAgICAgI",
           "dtype": "i1"
          }
         },
         "mode": "markers+text",
         "name": "Other",
         "text": [
          "##for",
          "##ese",
          "##en",
          "##age",
          "read",
          "happy",
          "happiness",
          "runner",
          "run",
          "walked",
          "walk",
          "development",
          "developer",
          "develop",
          "artificial",
          "intelligence",
          "machine",
          "deep",
          "token",
          "##ization",
          "##bed",
          "transform",
          "##er",
          "attention",
          "neural",
          "algorithm",
          "optimization",
          "gradient",
          "descent",
          "back",
          "##pro",
          "##pa",
          "##gation"
         ],
         "textfont": {
          "size": 10
         },
         "textposition": "middle center",
         "type": "scatter3d",
         "x": {
          "bdata": "zxivwKQtxMD0T7vAeFC/wI7FkcCDxppACFSFP3wfkEClcgVA4vi2QDNYMkDd5oXAnwuiQP8BAMCNLug/bczEvykgZECY04pAiE+UwEBGq8DWTrTAgjeev2vr2sDrq6dAEwH/v5nnsUApV6m/jQyUvx1zD0EKxahAA4yewM/muMA6KEjA",
          "dtype": "f4"
         },
         "y": {
          "bdata": "igH3v1QfpL8kD0u/MJqGv3cSNT8P8N/A0KU0wG6y7z8fTIM+njozQPrxJEA0oTdA+CkcQZcBRb9SI6tAxS0oQEAENEBQMlPAG2sGQNbSp77stMS/spxWQLdr5L+oW85A28hSQBpdBkFVU4tA1VC+P3ADGjtD8r2/nAXDv9G1ib/S2Cu/",
          "dtype": "f4"
         },
         "z": {
          "bdata": "94V+QDKzfEA2s8ZAc8qCP3Y4h8BkKYPA+R2pwKiJ0j/Owt8+ATEMQOeTAUBKPInAdsTfP2QDD8AV7VG/1+KYwMwH1z61LoM/tbmEwIRwnUDojwe+J6HLv7ENbUAhmZU+Zwt/wFgtA0B2zGjAzWlTwNOlsj/jBU5AZH+8P1HMd0Crfg1B",
          "dtype": "f4"
         }
        },
        {
         "hovertemplate": "<b>Token:</b> %{text}<br><b>Category:</b> Suffix: -ing<br><b>Frequency:</b> %{marker.size}<br><b>Coordinates:</b> (%{x:.2f}, %{y:.2f}, %{z:.2f})<br><extra></extra>",
         "marker": {
          "color": "rgb(128,177,211)",
          "line": {
           "color": "black",
           "width": 1
          },
          "opacity": 0.8,
          "size": {
           "bdata": "CAgICAgI",
           "dtype": "i1"
          }
         },
         "mode": "markers+text",
         "name": "Suffix: -ing",
         "text": [
          "breaking",
          "running",
          "walking",
          "developing",
          "learning",
          "##ding"
         ],
         "textfont": {
          "size": 10
         },
         "textposition": "middle center",
         "type": "scatter3d",
         "x": {
          "bdata": "uTOcPzxCu0CKIOBAgNgZwPWKq8CPms/A",
          "dtype": "f4"
         },
         "y": {
          "bdata": "G2uqwK06wsB9kgTAEhrnPi5xRT/KiGO/",
          "dtype": "f4"
         },
         "z": {
          "bdata": "oFF1wAm/Cr6409M/8ygWwEF/gsArUIhA",
          "dtype": "f4"
         }
        },
        {
         "hovertemplate": "<b>Token:</b> %{text}<br><b>Category:</b> Short tokens<br><b>Frequency:</b> %{marker.size}<br><b>Coordinates:</b> (%{x:.2f}, %{y:.2f}, %{z:.2f})<br><extra></extra>",
         "marker": {
          "color": "rgb(253,180,98)",
          "line": {
           "color": "black",
           "width": 1
          },
          "opacity": 0.8,
          "size": {
           "bdata": "CA==",
           "dtype": "i1"
          }
         },
         "mode": "markers+text",
         "name": "Short tokens",
         "text": [
          "em"
         ],
         "textfont": {
          "size": 10
         },
         "textposition": "middle center",
         "type": "scatter3d",
         "x": {
          "bdata": "I5CTQA==",
          "dtype": "f4"
         },
         "y": {
          "bdata": "n4MuQA==",
          "dtype": "f4"
         },
         "z": {
          "bdata": "FvWYQA==",
          "dtype": "f4"
         }
        }
       ],
       "layout": {
        "height": 700,
        "legend": {
         "x": 0.01,
         "xanchor": "left",
         "y": 0.99,
         "yanchor": "top"
        },
        "scene": {
         "camera": {
          "eye": {
           "x": 1.5,
           "y": 1.5,
           "z": 1.5
          }
         },
         "xaxis": {
          "title": {
           "text": "PC1 (Principal Component 1)"
          }
         },
         "yaxis": {
          "title": {
           "text": "PC2 (Principal Component 2)"
          }
         },
         "zaxis": {
          "title": {
           "text": "PC3 (Principal Component 3)"
          }
         }
        },
        "template": {
         "data": {
          "bar": [
           {
            "error_x": {
             "color": "#2a3f5f"
            },
            "error_y": {
             "color": "#2a3f5f"
            },
            "marker": {
             "line": {
              "color": "#E5ECF6",
              "width": 0.5
             },
             "pattern": {
              "fillmode": "overlay",
              "size": 10,
              "solidity": 0.2
             }
            },
            "type": "bar"
           }
          ],
          "barpolar": [
           {
            "marker": {
             "line": {
              "color": "#E5ECF6",
              "width": 0.5
             },
             "pattern": {
              "fillmode": "overlay",
              "size": 10,
              "solidity": 0.2
             }
            },
            "type": "barpolar"
           }
          ],
          "carpet": [
           {
            "aaxis": {
             "endlinecolor": "#2a3f5f",
             "gridcolor": "white",
             "linecolor": "white",
             "minorgridcolor": "white",
             "startlinecolor": "#2a3f5f"
            },
            "baxis": {
             "endlinecolor": "#2a3f5f",
             "gridcolor": "white",
             "linecolor": "white",
             "minorgridcolor": "white",
             "startlinecolor": "#2a3f5f"
            },
            "type": "carpet"
           }
          ],
          "choropleth": [
           {
            "colorbar": {
             "outlinewidth": 0,
             "ticks": ""
            },
            "type": "choropleth"
           }
          ],
          "contour": [
           {
            "colorbar": {
             "outlinewidth": 0,
             "ticks": ""
            },
            "colorscale": [
             [
              0,
              "#0d0887"
             ],
             [
              0.1111111111111111,
              "#46039f"
             ],
             [
              0.2222222222222222,
              "#7201a8"
             ],
             [
              0.3333333333333333,
              "#9c179e"
             ],
             [
              0.4444444444444444,
              "#bd3786"
             ],
             [
              0.5555555555555556,
              "#d8576b"
             ],
             [
              0.6666666666666666,
              "#ed7953"
             ],
             [
              0.7777777777777778,
              "#fb9f3a"
             ],
             [
              0.8888888888888888,
              "#fdca26"
             ],
             [
              1,
              "#f0f921"
             ]
            ],
            "type": "contour"
           }
          ],
          "contourcarpet": [
           {
            "colorbar": {
             "outlinewidth": 0,
             "ticks": ""
            },
            "type": "contourcarpet"
           }
          ],
          "heatmap": [
           {
            "colorbar": {
             "outlinewidth": 0,
             "ticks": ""
            },
            "colorscale": [
             [
              0,
              "#0d0887"
             ],
             [
              0.1111111111111111,
              "#46039f"
             ],
             [
              0.2222222222222222,
              "#7201a8"
             ],
             [
              0.3333333333333333,
              "#9c179e"
             ],
             [
              0.4444444444444444,
              "#bd3786"
             ],
             [
              0.5555555555555556,
              "#d8576b"
             ],
             [
              0.6666666666666666,
              "#ed7953"
             ],
             [
              0.7777777777777778,
              "#fb9f3a"
             ],
             [
              0.8888888888888888,
              "#fdca26"
             ],
             [
              1,
              "#f0f921"
             ]
            ],
            "type": "heatmap"
           }
          ],
          "histogram": [
           {
            "marker": {
             "pattern": {
              "fillmode": "overlay",
              "size": 10,
              "solidity": 0.2
             }
            },
            "type": "histogram"
           }
          ],
          "histogram2d": [
           {
            "colorbar": {
             "outlinewidth": 0,
             "ticks": ""
            },
            "colorscale": [
             [
              0,
              "#0d0887"
             ],
             [
              0.1111111111111111,
              "#46039f"
             ],
             [
              0.2222222222222222,
              "#7201a8"
             ],
             [
              0.3333333333333333,
              "#9c179e"
             ],
             [
              0.4444444444444444,
              "#bd3786"
             ],
             [
              0.5555555555555556,
              "#d8576b"
             ],
             [
              0.6666666666666666,
              "#ed7953"
             ],
             [
              0.7777777777777778,
              "#fb9f3a"
             ],
             [
              0.8888888888888888,
              "#fdca26"
             ],
             [
              1,
              "#f0f921"
             ]
            ],
            "type": "histogram2d"
           }
          ],
          "histogram2dcontour": [
           {
            "colorbar": {
             "outlinewidth": 0,
             "ticks": ""
            },
            "colorscale": [
             [
              0,
              "#0d0887"
             ],
             [
              0.1111111111111111,
              "#46039f"
             ],
             [
              0.2222222222222222,
              "#7201a8"
             ],
             [
              0.3333333333333333,
              "#9c179e"
             ],
             [
              0.4444444444444444,
              "#bd3786"
             ],
             [
              0.5555555555555556,
              "#d8576b"
             ],
             [
              0.6666666666666666,
              "#ed7953"
             ],
             [
              0.7777777777777778,
              "#fb9f3a"
             ],
             [
              0.8888888888888888,
              "#fdca26"
             ],
             [
              1,
              "#f0f921"
             ]
            ],
            "type": "histogram2dcontour"
           }
          ],
          "mesh3d": [
           {
            "colorbar": {
             "outlinewidth": 0,
             "ticks": ""
            },
            "type": "mesh3d"
           }
          ],
          "parcoords": [
           {
            "line": {
             "colorbar": {
              "outlinewidth": 0,
              "ticks": ""
             }
            },
            "type": "parcoords"
           }
          ],
          "pie": [
           {
            "automargin": true,
            "type": "pie"
           }
          ],
          "scatter": [
           {
            "fillpattern": {
             "fillmode": "overlay",
             "size": 10,
             "solidity": 0.2
            },
            "type": "scatter"
           }
          ],
          "scatter3d": [
           {
            "line": {
             "colorbar": {
              "outlinewidth": 0,
              "ticks": ""
             }
            },
            "marker": {
             "colorbar": {
              "outlinewidth": 0,
              "ticks": ""
             }
            },
            "type": "scatter3d"
           }
          ],
          "scattercarpet": [
           {
            "marker": {
             "colorbar": {
              "outlinewidth": 0,
              "ticks": ""
             }
            },
            "type": "scattercarpet"
           }
          ],
          "scattergeo": [
           {
            "marker": {
             "colorbar": {
              "outlinewidth": 0,
              "ticks": ""
             }
            },
            "type": "scattergeo"
           }
          ],
          "scattergl": [
           {
            "marker": {
             "colorbar": {
              "outlinewidth": 0,
              "ticks": ""
             }
            },
            "type": "scattergl"
           }
          ],
          "scattermap": [
           {
            "marker": {
             "colorbar": {
              "outlinewidth": 0,
              "ticks": ""
             }
            },
            "type": "scattermap"
           }
          ],
          "scattermapbox": [
           {
            "marker": {
             "colorbar": {
              "outlinewidth": 0,
              "ticks": ""
             }
            },
            "type": "scattermapbox"
           }
          ],
          "scatterpolar": [
           {
            "marker": {
             "colorbar": {
              "outlinewidth": 0,
              "ticks": ""
             }
            },
            "type": "scatterpolar"
           }
          ],
          "scatterpolargl": [
           {
            "marker": {
             "colorbar": {
              "outlinewidth": 0,
              "ticks": ""
             }
            },
            "type": "scatterpolargl"
           }
          ],
          "scatterternary": [
           {
            "marker": {
             "colorbar": {
              "outlinewidth": 0,
              "ticks": ""
             }
            },
            "type": "scatterternary"
           }
          ],
          "surface": [
           {
            "colorbar": {
             "outlinewidth": 0,
             "ticks": ""
            },
            "colorscale": [
             [
              0,
              "#0d0887"
             ],
             [
              0.1111111111111111,
              "#46039f"
             ],
             [
              0.2222222222222222,
              "#7201a8"
             ],
             [
              0.3333333333333333,
              "#9c179e"
             ],
             [
              0.4444444444444444,
              "#bd3786"
             ],
             [
              0.5555555555555556,
              "#d8576b"
             ],
             [
              0.6666666666666666,
              "#ed7953"
             ],
             [
              0.7777777777777778,
              "#fb9f3a"
             ],
             [
              0.8888888888888888,
              "#fdca26"
             ],
             [
              1,
              "#f0f921"
             ]
            ],
            "type": "surface"
           }
          ],
          "table": [
           {
            "cells": {
             "fill": {
              "color": "#EBF0F8"
             },
             "line": {
              "color": "white"
             }
            },
            "header": {
             "fill": {
              "color": "#C8D4E3"
             },
             "line": {
              "color": "white"
             }
            },
            "type": "table"
           }
          ]
         },
         "layout": {
          "annotationdefaults": {
           "arrowcolor": "#2a3f5f",
           "arrowhead": 0,
           "arrowwidth": 1
          },
          "autotypenumbers": "strict",
          "coloraxis": {
           "colorbar": {
            "outlinewidth": 0,
            "ticks": ""
           }
          },
          "colorscale": {
           "diverging": [
            [
             0,
             "#8e0152"
            ],
            [
             0.1,
             "#c51b7d"
            ],
            [
             0.2,
             "#de77ae"
            ],
            [
             0.3,
             "#f1b6da"
            ],
            [
             0.4,
             "#fde0ef"
            ],
            [
             0.5,
             "#f7f7f7"
            ],
            [
             0.6,
             "#e6f5d0"
            ],
            [
             0.7,
             "#b8e186"
            ],
            [
             0.8,
             "#7fbc41"
            ],
            [
             0.9,
             "#4d9221"
            ],
            [
             1,
             "#276419"
            ]
           ],
           "sequential": [
            [
             0,
             "#0d0887"
            ],
            [
             0.1111111111111111,
             "#46039f"
            ],
            [
             0.2222222222222222,
             "#7201a8"
            ],
            [
             0.3333333333333333,
             "#9c179e"
            ],
            [
             0.4444444444444444,
             "#bd3786"
            ],
            [
             0.5555555555555556,
             "#d8576b"
            ],
            [
             0.6666666666666666,
             "#ed7953"
            ],
            [
             0.7777777777777778,
             "#fb9f3a"
            ],
            [
             0.8888888888888888,
             "#fdca26"
            ],
            [
             1,
             "#f0f921"
            ]
           ],
           "sequentialminus": [
            [
             0,
             "#0d0887"
            ],
            [
             0.1111111111111111,
             "#46039f"
            ],
            [
             0.2222222222222222,
             "#7201a8"
            ],
            [
             0.3333333333333333,
             "#9c179e"
            ],
            [
             0.4444444444444444,
             "#bd3786"
            ],
            [
             0.5555555555555556,
             "#d8576b"
            ],
            [
             0.6666666666666666,
             "#ed7953"
            ],
            [
             0.7777777777777778,
             "#fb9f3a"
            ],
            [
             0.8888888888888888,
             "#fdca26"
            ],
            [
             1,
             "#f0f921"
            ]
           ]
          },
          "colorway": [
           "#636efa",
           "#EF553B",
           "#00cc96",
           "#ab63fa",
           "#FFA15A",
           "#19d3f3",
           "#FF6692",
           "#B6E880",
           "#FF97FF",
           "#FECB52"
          ],
          "font": {
           "color": "#2a3f5f"
          },
          "geo": {
           "bgcolor": "white",
           "lakecolor": "white",
           "landcolor": "#E5ECF6",
           "showlakes": true,
           "showland": true,
           "subunitcolor": "white"
          },
          "hoverlabel": {
           "align": "left"
          },
          "hovermode": "closest",
          "mapbox": {
           "style": "light"
          },
          "paper_bgcolor": "white",
          "plot_bgcolor": "#E5ECF6",
          "polar": {
           "angularaxis": {
            "gridcolor": "white",
            "linecolor": "white",
            "ticks": ""
           },
           "bgcolor": "#E5ECF6",
           "radialaxis": {
            "gridcolor": "white",
            "linecolor": "white",
            "ticks": ""
           }
          },
          "scene": {
           "xaxis": {
            "backgroundcolor": "#E5ECF6",
            "gridcolor": "white",
            "gridwidth": 2,
            "linecolor": "white",
            "showbackground": true,
            "ticks": "",
            "zerolinecolor": "white"
           },
           "yaxis": {
            "backgroundcolor": "#E5ECF6",
            "gridcolor": "white",
            "gridwidth": 2,
            "linecolor": "white",
            "showbackground": true,
            "ticks": "",
            "zerolinecolor": "white"
           },
           "zaxis": {
            "backgroundcolor": "#E5ECF6",
            "gridcolor": "white",
            "gridwidth": 2,
            "linecolor": "white",
            "showbackground": true,
            "ticks": "",
            "zerolinecolor": "white"
           }
          },
          "shapedefaults": {
           "line": {
            "color": "#2a3f5f"
           }
          },
          "ternary": {
           "aaxis": {
            "gridcolor": "white",
            "linecolor": "white",
            "ticks": ""
           },
           "baxis": {
            "gridcolor": "white",
            "linecolor": "white",
            "ticks": ""
           },
           "bgcolor": "#E5ECF6",
           "caxis": {
            "gridcolor": "white",
            "linecolor": "white",
            "ticks": ""
           }
          },
          "title": {
           "x": 0.05
          },
          "xaxis": {
           "automargin": true,
           "gridcolor": "white",
           "linecolor": "white",
           "ticks": "",
           "title": {
            "standoff": 15
           },
           "zerolinecolor": "white",
           "zerolinewidth": 2
          },
          "yaxis": {
           "automargin": true,
           "gridcolor": "white",
           "linecolor": "white",
           "ticks": "",
           "title": {
            "standoff": 15
           },
           "zerolinecolor": "white",
           "zerolinewidth": 2
          }
         }
        },
        "title": {
         "font": {
          "size": 16
         },
         "text": "3D Visualization of Token Embeddings<br><sub>AI Mastery Series - Understanding Tokenization</sub>",
         "x": 0.5
        },
        "width": 900
       }
      },
      "image/png": "[encoded data removed]",
      "text/html": [
       "<div>            <script src=\"https://cdnjs.cloudflare.com/ajax/libs/mathjax/2.7.5/MathJax.js?config=TeX-AMS-MML_SVG\"></script><script type=\"text/javascript\">if (window.MathJax && window.MathJax.Hub && window.MathJax.Hub.Config) {window.MathJax.Hub.Config({SVG: {font: \"STIX-Web\"}});}</script>                <script type=\"text/javascript\">window.PlotlyConfig = {MathJaxConfig: 'local'};</script>\n",
       "        <script charset=\"utf-8\" src=\"https://cdn.plot.ly/plotly-3.0.1.min.js\" integrity=\"sha256-oy6Be7Eh6eiQFs5M7oXuPxxm9qbJXEtTpfSI93dW16Q=\" crossorigin=\"anonymous\"></script>                <div id=\"ab99caa1-5439-46d0-ba70-cce4bef794b9\" class=\"plotly-graph-div\" style=\"height:700px; width:900px;\"></div>            <script type=\"text/javascript\">                window.PLOTLYENV=window.PLOTLYENV || {};                                if (document.getElementById(\"ab99caa1-5439-46d0-ba70-cce4bef794b9\")) {                    Plotly.newPlot(                        \"ab99caa1-5439-46d0-ba70-cce4bef794b9\",                        [{\"hovertemplate\":\"\\u003cb\\u003eToken:\\u003c\\u002fb\\u003e %{text}\\u003cbr\\u003e\\u003cb\\u003eCategory:\\u003c\\u002fb\\u003e Prefix: un-\\u003cbr\\u003e\\u003cb\\u003eFrequency:\\u003c\\u002fb\\u003e %{marker.size}\\u003cbr\\u003e\\u003cb\\u003eCoordinates:\\u003c\\u002fb\\u003e (%{x:.2f}, %{y:.2f}, %{z:.2f})\\u003cbr\\u003e\\u003cextra\\u003e\\u003c\\u002fextra\\u003e\",\"marker\":{\"color\":\"rgb(141,211,199)\",\"line\":{\"color\":\"black\",\"width\":1},\"opacity\":0.8,\"size\":{\"dtype\":\"i1\",\"bdata\":\"DgsICAg=\"}},\"mode\":\"markers+text\",\"name\":\"Prefix: un-\",\"text\":[\"un\",\"understand\",\"unable\",\"unexpected\",\"unhappy\"],\"textfont\":{\"size\":10},\"textposition\":\"middle center\",\"x\":{\"dtype\":\"f4\",\"bdata\":\"4FHUv7wbOEBHzf5AHKnXQHKeeT4=\"},\"y\":{\"dtype\":\"f4\",\"bdata\":\"Ex7SP47d1z9T3hrA+oSUwK6hvsA=\"},\"z\":{\"dtype\":\"f4\",\"bdata\":\"d2rBv5LribzHjqw\\u002fvkj9PwZWoMA=\"},\"type\":\"scatter3d\"},{\"hovertemplate\":\"\\u003cb\\u003eToken:\\u003c\\u002fb\\u003e %{text}\\u003cbr\\u003e\\u003cb\\u003eCategory:\\u003c\\u002fb\\u003e Contains: break\\u003cbr\\u003e\\u003cb\\u003eFrequency:\\u003c\\u002fb\\u003e %{marker.size}\\u003cbr\\u003e\\u003cb\\u003eCoordinates:\\u003c\\u002fb\\u003e (%{x:.2f}, %{y:.2f}, %{z:.2f})\\u003cbr\\u003e\\u003cextra\\u003e\\u003c\\u002fextra\\u003e\",\"marker\":{\"color\":\"rgb(255,255,179)\",\"line\":{\"color\":\"black\",\"width\":1},\"opacity\":0.8,\"size\":{\"dtype\":\"i1\",\"bdata\":\"CAgICAs=\"}},\"mode\":\"markers+text\",\"name\":\"Contains: break\",\"text\":[\"##break\",\"breakthrough\",\"outbreak\",\"breakdown\",\"break\"],\"textfont\":{\"size\":10},\"textposition\":\"middle center\",\"x\":{\"dtype\":\"f4\",\"bdata\":\"\\u002fcykwLjxyb6lEfVA4JtpwEPjcMA=\"},\"y\":{\"dtype\":\"f4\",\"bdata\":\"bT+ev+eSdcCH2IPAO4D9P+rffT8=\"},\"z\":{\"dtype\":\"f4\",\"bdata\":\"wbdTQJM1sL9pIhFAn0IVwKNkG8A=\"},\"type\":\"scatter3d\"},{\"hovertemplate\":\"\\u003cb\\u003eToken:\\u003c\\u002fb\\u003e %{text}\\u003cbr\\u003e\\u003cb\\u003eCategory:\\u003c\\u002fb\\u003e Suffix: -able\\u003cbr\\u003e\\u003cb\\u003eFrequency:\\u003c\\u002fb\\u003e %{marker.size}\\u003cbr\\u003e\\u003cb\\u003eCoordinates:\\u003c\\u002fb\\u003e (%{x:.2f}, %{y:.2f}, %{z:.2f})\\u003cbr\\u003e\\u003cextra\\u003e\\u003c\\u002fextra\\u003e\",\"marker\":{\"color\":\"rgb(190,186,218)\",\"line\":{\"color\":\"black\",\"width\":1},\"opacity\":0.8,\"size\":{\"dtype\":\"i1\",\"bdata\":\"DggICAg=\"}},\"mode\":\"markers+text\",\"name\":\"Suffix: -able\",\"text\":[\"##able\",\"capable\",\"reliable\",\"comfortable\",\"able\"],\"textfont\":{\"size\":10},\"textposition\":\"middle center\",\"x\":{\"dtype\":\"f4\",\"bdata\":\"PXOiwDkgNb\\u002flbXhA4YklQF3mdz8=\"},\"y\":{\"dtype\":\"f4\",\"bdata\":\"vgXzv711i0AXlMm\\u002fJma9wKlxF8A=\"},\"z\":{\"dtype\":\"f4\",\"bdata\":\"9SHiP7RqgMAdPwC+o9V7wAcVB8A=\"},\"type\":\"scatter3d\"},{\"hovertemplate\":\"\\u003cb\\u003eToken:\\u003c\\u002fb\\u003e %{text}\\u003cbr\\u003e\\u003cb\\u003eCategory:\\u003c\\u002fb\\u003e Other\\u003cbr\\u003e\\u003cb\\u003eFrequency:\\u003c\\u002fb\\u003e %{marker.size}\\u003cbr\\u003e\\u003cb\\u003eCoordinates:\\u003c\\u002fb\\u003e (%{x:.2f}, %{y:.2f}, %{z:.2f})\\u003cbr\\u003e\\u003cextra\\u003e\\u003c\\u002fextra\\u003e\",\"marker\":{\"color\":\"rgb(251,128,114)\",\"line\":{\"color\":\"black\",\"width\":1},\"opacity\":0.8,\"size\":{\"dtype\":\"i1\",\"bdata\":\"CAgICAgICAgICAgICAgICAgICAgICAgICAgICAgICAgI\"}},\"mode\":\"markers+text\",\"name\":\"Other\",\"text\":[\"##for\",\"##ese\",\"##en\",\"##age\",\"read\",\"happy\",\"happiness\",\"runner\",\"run\",\"walked\",\"walk\",\"development\",\"developer\",\"develop\",\"artificial\",\"intelligence\",\"machine\",\"deep\",\"token\",\"##ization\",\"##bed\",\"transform\",\"##er\",\"attention\",\"neural\",\"algorithm\",\"optimization\",\"gradient\",\"descent\",\"back\",\"##pro\",\"##pa\",\"##gation\"],\"textfont\":{\"size\":10},\"textposition\":\"middle center\",\"x\":{\"dtype\":\"f4\",\"bdata\":\"zxivwKQtxMD0T7vAeFC\\u002fwI7FkcCDxppACFSFP3wfkEClcgVA4vi2QDNYMkDd5oXAnwuiQP8BAMCNLug\\u002fbczEvykgZECY04pAiE+UwEBGq8DWTrTAgjeev2vr2sDrq6dAEwH\\u002fv5nnsUApV6m\\u002fjQyUvx1zD0EKxahAA4yewM\\u002fmuMA6KEjA\"},\"y\":{\"dtype\":\"f4\",\"bdata\":\"igH3v1QfpL8kD0u\\u002fMJqGv3cSNT8P8N\\u002fA0KU0wG6y7z8fTIM+njozQPrxJEA0oTdA+CkcQZcBRb9SI6tAxS0oQEAENEBQMlPAG2sGQNbSp77stMS\\u002fspxWQLdr5L+oW85A28hSQBpdBkFVU4tA1VC+P3ADGjtD8r2\\u002fnAXDv9G1ib\\u002fS2Cu\\u002f\"},\"z\":{\"dtype\":\"f4\",\"bdata\":\"94V+QDKzfEA2s8ZAc8qCP3Y4h8BkKYPA+R2pwKiJ0j\\u002fOwt8+ATEMQOeTAUBKPInAdsTfP2QDD8AV7VG\\u002f1+KYwMwH1z61LoM\\u002ftbmEwIRwnUDojwe+J6HLv7ENbUAhmZU+Zwt\\u002fwFgtA0B2zGjAzWlTwNOlsj\\u002fjBU5AZH+8P1HMd0Crfg1B\"},\"type\":\"scatter3d\"},{\"hovertemplate\":\"\\u003cb\\u003eToken:\\u003c\\u002fb\\u003e %{text}\\u003cbr\\u003e\\u003cb\\u003eCategory:\\u003c\\u002fb\\u003e Suffix: -ing\\u003cbr\\u003e\\u003cb\\u003eFrequency:\\u003c\\u002fb\\u003e %{marker.size}\\u003cbr\\u003e\\u003cb\\u003eCoordinates:\\u003c\\u002fb\\u003e (%{x:.2f}, %{y:.2f}, %{z:.2f})\\u003cbr\\u003e\\u003cextra\\u003e\\u003c\\u002fextra\\u003e\",\"marker\":{\"color\":\"rgb(128,177,211)\",\"line\":{\"color\":\"black\",\"width\":1},\"opacity\":0.8,\"size\":{\"dtype\":\"i1\",\"bdata\":\"CAgICAgI\"}},\"mode\":\"markers+text\",\"name\":\"Suffix: -ing\",\"text\":[\"breaking\",\"running\",\"walking\",\"developing\",\"learning\",\"##ding\"],\"textfont\":{\"size\":10},\"textposition\":\"middle center\",\"x\":{\"dtype\":\"f4\",\"bdata\":\"uTOcPzxCu0CKIOBAgNgZwPWKq8CPms\\u002fA\"},\"y\":{\"dtype\":\"f4\",\"bdata\":\"G2uqwK06wsB9kgTAEhrnPi5xRT\\u002fKiGO\\u002f\"},\"z\":{\"dtype\":\"f4\",\"bdata\":\"oFF1wAm\\u002fCr6409M\\u002f8ygWwEF\\u002fgsArUIhA\"},\"type\":\"scatter3d\"},{\"hovertemplate\":\"\\u003cb\\u003eToken:\\u003c\\u002fb\\u003e %{text}\\u003cbr\\u003e\\u003cb\\u003eCategory:\\u003c\\u002fb\\u003e Short tokens\\u003cbr\\u003e\\u003cb\\u003eFrequency:\\u003c\\u002fb\\u003e %{marker.size}\\u003cbr\\u003e\\u003cb\\u003eCoordinates:\\u003c\\u002fb\\u003e (%{x:.2f}, %{y:.2f}, %{z:.2f})\\u003cbr\\u003e\\u003cextra\\u003e\\u003c\\u002fextra\\u003e\",\"marker\":{\"color\":\"rgb(253,180,98)\",\"line\":{\"color\":\"black\",\"width\":1},\"opacity\":0.8,\"size\":{\"dtype\":\"i1\",\"bdata\":\"CA==\"}},\"mode\":\"markers+text\",\"name\":\"Short tokens\",\"text\":[\"em\"],\"textfont\":{\"size\":10},\"textposition\":\"middle center\",\"x\":{\"dtype\":\"f4\",\"bdata\":\"I5CTQA==\"},\"y\":{\"dtype\":\"f4\",\"bdata\":\"n4MuQA==\"},\"z\":{\"dtype\":\"f4\",\"bdata\":\"FvWYQA==\"},\"type\":\"scatter3d\"}],                        {\"template\":{\"data\":{\"histogram2dcontour\":[{\"type\":\"histogram2dcontour\",\"colorbar\":{\"outlinewidth\":0,\"ticks\":\"\"},\"colorscale\":[[0.0,\"#0d0887\"],[0.1111111111111111,\"#46039f\"],[0.2222222222222222,\"#7201a8\"],[0.3333333333333333,\"#9c179e\"],[0.4444444444444444,\"#bd3786\"],[0.5555555555555556,\"#d8576b\"],[0.6666666666666666,\"#ed7953\"],[0.7777777777777778,\"#fb9f3a\"],[0.8888888888888888,\"#fdca26\"],[1.0,\"#f0f921\"]]}],\"choropleth\":[{\"type\":\"choropleth\",\"colorbar\":{\"outlinewidth\":0,\"ticks\":\"\"}}],\"histogram2d\":[{\"type\":\"histogram2d\",\"colorbar\":{\"outlinewidth\":0,\"ticks\":\"\"},\"colorscale\":[[0.0,\"#0d0887\"],[0.1111111111111111,\"#46039f\"],[0.2222222222222222,\"#7201a8\"],[0.3333333333333333,\"#9c179e\"],[0.4444444444444444,\"#bd3786\"],[0.5555555555555556,\"#d8576b\"],[0.6666666666666666,\"#ed7953\"],[0.7777777777777778,\"#fb9f3a\"],[0.8888888888888888,\"#fdca26\"],[1.0,\"#f0f921\"]]}],\"heatmap\":[{\"type\":\"heatmap\",\"colorbar\":{\"outlinewidth\":0,\"ticks\":\"\"},\"colorscale\":[[0.0,\"#0d0887\"],[0.1111111111111111,\"#46039f\"],[0.2222222222222222,\"#7201a8\"],[0.3333333333333333,\"#9c179e\"],[0.4444444444444444,\"#bd3786\"],[0.5555555555555556,\"#d8576b\"],[0.6666666666666666,\"#ed7953\"],[0.7777777777777778,\"#fb9f3a\"],[0.8888888888888888,\"#fdca26\"],[1.0,\"#f0f921\"]]}],\"contourcarpet\":[{\"type\":\"contourcarpet\",\"colorbar\":{\"outlinewidth\":0,\"ticks\":\"\"}}],\"contour\":[{\"type\":\"contour\",\"colorbar\":{\"outlinewidth\":0,\"ticks\":\"\"},\"colorscale\":[[0.0,\"#0d0887\"],[0.1111111111111111,\"#46039f\"],[0.2222222222222222,\"#7201a8\"],[0.3333333333333333,\"#9c179e\"],[0.4444444444444444,\"#bd3786\"],[0.5555555555555556,\"#d8576b\"],[0.6666666666666666,\"#ed7953\"],[0.7777777777777778,\"#fb9f3a\"],[0.8888888888888888,\"#fdca26\"],[1.0,\"#f0f921\"]]}],\"surface\":[{\"type\":\"surface\",\"colorbar\":{\"outlinewidth\":0,\"ticks\":\"\"},\"colorscale\":[[0.0,\"#0d0887\"],[0.1111111111111111,\"#46039f\"],[0.2222222222222222,\"#7201a8\"],[0.3333333333333333,\"#9c179e\"],[0.4444444444444444,\"#bd3786\"],[0.5555555555555556,\"#d8576b\"],[0.6666666666666666,\"#ed7953\"],[0.7777777777777778,\"#fb9f3a\"],[0.8888888888888888,\"#fdca26\"],[1.0,\"#f0f921\"]]}],\"mesh3d\":[{\"type\":\"mesh3d\",\"colorbar\":{\"outlinewidth\":0,\"ticks\":\"\"}}],\"scatter\":[{\"fillpattern\":{\"fillmode\":\"overlay\",\"size\":10,\"solidity\":0.2},\"type\":\"scatter\"}],\"parcoords\":[{\"type\":\"parcoords\",\"line\":{\"colorbar\":{\"outlinewidth\":0,\"ticks\":\"\"}}}],\"scatterpolargl\":[{\"type\":\"scatterpolargl\",\"marker\":{\"colorbar\":{\"outlinewidth\":0,\"ticks\":\"\"}}}],\"bar\":[{\"error_x\":{\"color\":\"#2a3f5f\"},\"error_y\":{\"color\":\"#2a3f5f\"},\"marker\":{\"line\":{\"color\":\"#E5ECF6\",\"width\":0.5},\"pattern\":{\"fillmode\":\"overlay\",\"size\":10,\"solidity\":0.2}},\"type\":\"bar\"}],\"scattergeo\":[{\"type\":\"scattergeo\",\"marker\":{\"colorbar\":{\"outlinewidth\":0,\"ticks\":\"\"}}}],\"scatterpolar\":[{\"type\":\"scatterpolar\",\"marker\":{\"colorbar\":{\"outlinewidth\":0,\"ticks\":\"\"}}}],\"histogram\":[{\"marker\":{\"pattern\":{\"fillmode\":\"overlay\",\"size\":10,\"solidity\":0.2}},\"type\":\"histogram\"}],\"scattergl\":[{\"type\":\"scattergl\",\"marker\":{\"colorbar\":{\"outlinewidth\":0,\"ticks\":\"\"}}}],\"scatter3d\":[{\"type\":\"scatter3d\",\"line\":{\"colorbar\":{\"outlinewidth\":0,\"ticks\":\"\"}},\"marker\":{\"colorbar\":{\"outlinewidth\":0,\"ticks\":\"\"}}}],\"scattermap\":[{\"type\":\"scattermap\",\"marker\":{\"colorbar\":{\"outlinewidth\":0,\"ticks\":\"\"}}}],\"scattermapbox\":[{\"type\":\"scattermapbox\",\"marker\":{\"colorbar\":{\"outlinewidth\":0,\"ticks\":\"\"}}}],\"scatterternary\":[{\"type\":\"scatterternary\",\"marker\":{\"colorbar\":{\"outlinewidth\":0,\"ticks\":\"\"}}}],\"scattercarpet\":[{\"type\":\"scattercarpet\",\"marker\":{\"colorbar\":{\"outlinewidth\":0,\"ticks\":\"\"}}}],\"carpet\":[{\"aaxis\":{\"endlinecolor\":\"#2a3f5f\",\"gridcolor\":\"white\",\"linecolor\":\"white\",\"minorgridcolor\":\"white\",\"startlinecolor\":\"#2a3f5f\"},\"baxis\":{\"endlinecolor\":\"#2a3f5f\",\"gridcolor\":\"white\",\"linecolor\":\"white\",\"minorgridcolor\":\"white\",\"startlinecolor\":\"#2a3f5f\"},\"type\":\"carpet\"}],\"table\":[{\"cells\":{\"fill\":{\"color\":\"#EBF0F8\"},\"line\":{\"color\":\"white\"}},\"header\":{\"fill\":{\"color\":\"#C8D4E3\"},\"line\":{\"color\":\"white\"}},\"type\":\"table\"}],\"barpolar\":[{\"marker\":{\"line\":{\"color\":\"#E5ECF6\",\"width\":0.5},\"pattern\":{\"fillmode\":\"overlay\",\"size\":10,\"solidity\":0.2}},\"type\":\"barpolar\"}],\"pie\":[{\"automargin\":true,\"type\":\"pie\"}]},\"layout\":{\"autotypenumbers\":\"strict\",\"colorway\":[\"#636efa\",\"#EF553B\",\"#00cc96\",\"#ab63fa\",\"#FFA15A\",\"#19d3f3\",\"#FF6692\",\"#B6E880\",\"#FF97FF\",\"#FECB52\"],\"font\":{\"color\":\"#2a3f5f\"},\"hovermode\":\"closest\",\"hoverlabel\":{\"align\":\"left\"},\"paper_bgcolor\":\"white\",\"plot_bgcolor\":\"#E5ECF6\",\"polar\":{\"bgcolor\":\"#E5ECF6\",\"angularaxis\":{\"gridcolor\":\"white\",\"linecolor\":\"white\",\"ticks\":\"\"},\"radialaxis\":{\"gridcolor\":\"white\",\"linecolor\":\"white\",\"ticks\":\"\"}},\"ternary\":{\"bgcolor\":\"#E5ECF6\",\"aaxis\":{\"gridcolor\":\"white\",\"linecolor\":\"white\",\"ticks\":\"\"},\"baxis\":{\"gridcolor\":\"white\",\"linecolor\":\"white\",\"ticks\":\"\"},\"caxis\":{\"gridcolor\":\"white\",\"linecolor\":\"white\",\"ticks\":\"\"}},\"coloraxis\":{\"colorbar\":{\"outlinewidth\":0,\"ticks\":\"\"}},\"colorscale\":{\"sequential\":[[0.0,\"#0d0887\"],[0.1111111111111111,\"#46039f\"],[0.2222222222222222,\"#7201a8\"],[0.3333333333333333,\"#9c179e\"],[0.4444444444444444,\"#bd3786\"],[0.5555555555555556,\"#d8576b\"],[0.6666666666666666,\"#ed7953\"],[0.7777777777777778,\"#fb9f3a\"],[0.8888888888888888,\"#fdca26\"],[1.0,\"#f0f921\"]],\"sequentialminus\":[[0.0,\"#0d0887\"],[0.1111111111111111,\"#46039f\"],[0.2222222222222222,\"#7201a8\"],[0.3333333333333333,\"#9c179e\"],[0.4444444444444444,\"#bd3786\"],[0.5555555555555556,\"#d8576b\"],[0.6666666666666666,\"#ed7953\"],[0.7777777777777778,\"#fb9f3a\"],[0.8888888888888888,\"#fdca26\"],[1.0,\"#f0f921\"]],\"diverging\":[[0,\"#8e0152\"],[0.1,\"#c51b7d\"],[0.2,\"#de77ae\"],[0.3,\"#f1b6da\"],[0.4,\"#fde0ef\"],[0.5,\"#f7f7f7\"],[0.6,\"#e6f5d0\"],[0.7,\"#b8e186\"],[0.8,\"#7fbc41\"],[0.9,\"#4d9221\"],[1,\"#276419\"]]},\"xaxis\":{\"gridcolor\":\"white\",\"linecolor\":\"white\",\"ticks\":\"\",\"title\":{\"standoff\":15},\"zerolinecolor\":\"white\",\"automargin\":true,\"zerolinewidth\":2},\"yaxis\":{\"gridcolor\":\"white\",\"linecolor\":\"white\",\"ticks\":\"\",\"title\":{\"standoff\":15},\"zerolinecolor\":\"white\",\"automargin\":true,\"zerolinewidth\":2},\"scene\":{\"xaxis\":{\"backgroundcolor\":\"#E5ECF6\",\"gridcolor\":\"white\",\"linecolor\":\"white\",\"showbackground\":true,\"ticks\":\"\",\"zerolinecolor\":\"white\",\"gridwidth\":2},\"yaxis\":{\"backgroundcolor\":\"#E5ECF6\",\"gridcolor\":\"white\",\"linecolor\":\"white\",\"showbackground\":true,\"ticks\":\"\",\"zerolinecolor\":\"white\",\"gridwidth\":2},\"zaxis\":{\"backgroundcolor\":\"#E5ECF6\",\"gridcolor\":\"white\",\"linecolor\":\"white\",\"showbackground\":true,\"ticks\":\"\",\"zerolinecolor\":\"white\",\"gridwidth\":2}},\"shapedefaults\":{\"line\":{\"color\":\"#2a3f5f\"}},\"annotationdefaults\":{\"arrowcolor\":\"#2a3f5f\",\"arrowhead\":0,\"arrowwidth\":1},\"geo\":{\"bgcolor\":\"white\",\"landcolor\":\"#E5ECF6\",\"subunitcolor\":\"white\",\"showland\":true,\"showlakes\":true,\"lakecolor\":\"white\"},\"title\":{\"x\":0.05},\"mapbox\":{\"style\":\"light\"}}},\"title\":{\"font\":{\"size\":16},\"text\":\"3D Visualization of Token Embeddings\\u003cbr\\u003e\\u003csub\\u003eAI Mastery Series - Understanding Tokenization\\u003c\\u002fsub\\u003e\",\"x\":0.5},\"scene\":{\"camera\":{\"eye\":{\"x\":1.5,\"y\":1.5,\"z\":1.5}},\"xaxis\":{\"title\":{\"text\":\"PC1 (Principal Component 1)\"}},\"yaxis\":{\"title\":{\"text\":\"PC2 (Principal Component 2)\"}},\"zaxis\":{\"title\":{\"text\":\"PC3 (Principal Component 3)\"}}},\"legend\":{\"yanchor\":\"top\",\"y\":0.99,\"xanchor\":\"left\",\"x\":0.01},\"width\":900,\"height\":700},                        {\"responsive\": true}                    ).then(function(){\n",
       "                            \n",
       "var gd = document.getElementById('ab99caa1-5439-46d0-ba70-cce4bef794b9');\n",
       "var x = new MutationObserver(function (mutations, observer) {{\n",
       "        var display = window.getComputedStyle(gd).display;\n",
       "        if (!display || display === 'none') {{\n",
       "            console.log([gd, 'removed!']);\n",
       "            Plotly.purge(gd);\n",
       "            observer.disconnect();\n",
       "        }}\n",
       "}});\n",
       "\n",
       "// Listen for the removal of the full notebook cells\n",
       "var notebookContainer = gd.closest('#notebook-container');\n",
       "if (notebookContainer) {{\n",
       "    x.observe(notebookContainer, {childList: true});\n",
       "}}\n",
       "\n",
       "// Listen for the clearing of the current output cell\n",
       "var outputEl = gd.closest('.output');\n",
       "if (outputEl) {{\n",
       "    x.observe(outputEl, {childList: true});\n",
       "}}\n",
       "\n",
       "                        })                };            </script>        </div>"
      ]
     },
     "metadata": {},
     "output_type": "display_data"
    },
    {
     "name": "stdout",
     "output_type": "stream",
     "text": [
      "✅ 3D visualization displayed successfully!\n",
      "\n",
      "=== INSIGHTS FOR TOKENIZATION BENEFITS ===\n",
      "\n",
      "1. TOKENIZATION BENEFITS:\n",
      "   - Vocabulary reduction: Instead of thousands of words, we use fewer tokens\n",
      "   - Subword reusability: 'un', 'break', 'able' appear in multiple words\n",
      "   - Handles unknown words: New words can be broken into known subwords\n",
      "\n",
      "2. 3D VISUALIZATION INSIGHTS:\n",
      "   - Similar tokens cluster together in the embedding space\n",
      "   - Prefixes like 'un-' and suffixes like '-able' form their own regions\n",
      "   - Frequency affects the importance (size) of tokens\n",
      "\n",
      "3. PRACTICAL IMPLICATIONS:\n",
      "   - Models learn relationships between token parts\n",
      "   - Understanding 'break' helps with 'breaking', 'breakdown', etc.\n",
      "   - Efficient representation enables better AI language understanding\n",
      "\n",
      "Creating simplified 2D version...\n"
     ]
    },
    {
     "data": {
      "application/vnd.plotly.v1+json": {
       "config": {
        "plotlyServerURL": "https://plot.ly"
       },
       "data": [
        {
         "hovertemplate": "color=Prefix: un-<br>t-SNE Component 1=%{x}<br>t-SNE Component 2=%{y}<br>size=%{marker.size}<br>text=%{text}<extra></extra>",
         "legendgroup": "Prefix: un-",
         "marker": {
          "color": "#636efa",
          "size": {
           "bdata": "AwIBAQE=",
           "dtype": "i1"
          },
          "sizemode": "area",
          "sizeref": 0.0075,
          "symbol": "circle"
         },
         "mode": "markers+text",
         "name": "Prefix: un-",
         "orientation": "v",
         "showlegend": true,
         "text": [
          "un",
          "understand",
          "unable",
          "unexpected",
          "unhappy"
         ],
         "textfont": {
          "size": 10
         },
         "textposition": "middle center",
         "type": "scatter",
         "x": {
          "bdata": "GLdHQKsEQ0DtNZRAdq+fQGZspEA=",
          "dtype": "f4"
         },
         "xaxis": "x",
         "y": {
          "bdata": "Ae4GQH0Ubb8ENgnA6gfevzgznb4=",
          "dtype": "f4"
         },
         "yaxis": "y"
        },
        {
         "hovertemplate": "color=Contains: break<br>t-SNE Component 1=%{x}<br>t-SNE Component 2=%{y}<br>size=%{marker.size}<br>text=%{text}<extra></extra>",
         "legendgroup": "Contains: break",
         "marker": {
          "color": "#EF553B",
          "size": {
           "bdata": "AQEBAQI=",
           "dtype": "i1"
          },
          "sizemode": "area",
          "sizeref": 0.0075,
          "symbol": "circle"
         },
         "mode": "markers+text",
         "name": "Contains: break",
         "orientation": "v",
         "showlegend": true,
         "text": [
          "##break",
          "breakthrough",
          "outbreak",
          "breakdown",
          "break"
         ],
         "textfont": {
          "size": 10
         },
         "textposition": "middle center",
         "type": "scatter",
         "x": {
          "bdata": "AXQyQITh5z+QO7BAum57QICvTUA=",
          "dtype": "f4"
         },
         "xaxis": "x",
         "y": {
          "bdata": "exkuP7lh5j9nz/e/jyqCPzoq5j8=",
          "dtype": "f4"
         },
         "yaxis": "y"
        },
        {
         "hovertemplate": "color=Suffix: -able<br>t-SNE Component 1=%{x}<br>t-SNE Component 2=%{y}<br>size=%{marker.size}<br>text=%{text}<extra></extra>",
         "legendgroup": "Suffix: -able",
         "marker": {
          "color": "#00cc96",
          "size": {
           "bdata": "AwEBAQE=",
           "dtype": "i1"
          },
          "sizemode": "area",
          "sizeref": 0.0075,
          "symbol": "circle"
         },
         "mode": "markers+text",
         "name": "Suffix: -able",
         "orientation": "v",
         "showlegend": true,
         "text": [
          "##able",
          "capable",
          "reliable",
          "comfortable",
          "able"
         ],
         "textfont": {
          "size": 10
         },
         "textposition": "middle center",
         "type": "scatter",
         "x": {
          "bdata": "VllNQOboiEAa2X1ATT+oQIyLiEA=",
          "dtype": "f4"
         },
         "xaxis": "x",
         "y": {
          "bdata": "FR7sPrbtFUB0es+/DCUWv2ojB78=",
          "dtype": "f4"
         },
         "yaxis": "y"
        },
        {
         "hovertemplate": "color=Other<br>t-SNE Component 1=%{x}<br>t-SNE Component 2=%{y}<br>size=%{marker.size}<br>text=%{text}<extra></extra>",
         "legendgroup": "Other",
         "marker": {
          "color": "#ab63fa",
          "size": {
           "bdata": "AQEBAQEBAQEBAQEBAQEBAQEBAQEBAQEBAQEBAQEBAQEB",
           "dtype": "i1"
          },
          "sizemode": "area",
          "sizeref": 0.0075,
          "symbol": "circle"
         },
         "mode": "markers+text",
         "name": "Other",
         "orientation": "v",
         "showlegend": true,
         "text": [
          "##for",
          "##ese",
          "##en",
          "##age",
          "read",
          "happy",
          "happiness",
          "runner",
          "run",
          "walked",
          "walk",
          "development",
          "developer",
          "develop",
          "artificial",
          "intelligence",
          "machine",
          "deep",
          "token",
          "##ization",
          "##bed",
          "transform",
          "##er",
          "attention",
          "neural",
          "algorithm",
          "optimization",
          "gradient",
          "descent",
          "back",
          "##pro",
          "##pa",
          "##gation"
         ],
         "textfont": {
          "size": 10
         },
         "textposition": "middle center",
         "type": "scatter",
         "x": {
          "bdata": "0X4iQJzCLECXkwtA+5NFQEAFckAED69AERufQO21T0CxFGFA+Oh5QBoHIkAxGoNAmfOnQCVbeUCcC2BA9fSEQNN+vkAzEIVAGKZmQCAcHECGtFZA7pepQIs2FkA4iI1ADeKHQJb4rEDV55xAcKKfQF+Ej0CJyIxAu+9MQJHmK0AAKfQ/",
          "dtype": "f4"
         },
         "xaxis": "x",
         "y": {
          "bdata": "THDdPq6TMj+zXRA/xdeCP++osT/ZS0W/vgsEvOngAsDkL1W/NIQ3wM22wr9bZMQ/5GxNQIDsmj3sHUpAopToPz4xqT8X2Iu/QJ/nPw93Lz/cV2w/alq4PzFoez9IyFJAZwPlP/SxREDbcfQ/18GxPzMXCsCDifC/5osKP+gULD9fLqI+",
          "dtype": "f4"
         },
         "yaxis": "y"
        },
        {
         "hovertemplate": "color=Suffix: -ing<br>t-SNE Component 1=%{x}<br>t-SNE Component 2=%{y}<br>size=%{marker.size}<br>text=%{text}<extra></extra>",
         "legendgroup": "Suffix: -ing",
         "marker": {
          "color": "#FFA15A",
          "size": {
           "bdata": "AQEBAQEB",
           "dtype": "i1"
          },
          "sizemode": "area",
          "sizeref": 0.0075,
          "symbol": "circle"
         },
         "mode": "markers+text",
         "name": "Suffix: -ing",
         "orientation": "v",
         "showlegend": true,
         "text": [
          "breaking",
          "running",
          "walking",
          "developing",
          "learning",
          "##ding"
         ],
         "textfont": {
          "size": 10
         },
         "textposition": "middle center",
         "type": "scatter",
         "x": {
          "bdata": "kvalQJhIrUCCJ7RAl3Z7QAfYcEDSVB9A",
          "dtype": "f4"
         },
         "xaxis": "x",
         "y": {
          "bdata": "cwDbvnHFs7/CK9K/7cQbPt+epz8WXWg/",
          "dtype": "f4"
         },
         "yaxis": "y"
        },
        {
         "hovertemplate": "color=Short tokens<br>t-SNE Component 1=%{x}<br>t-SNE Component 2=%{y}<br>size=%{marker.size}<br>text=%{text}<extra></extra>",
         "legendgroup": "Short tokens",
         "marker": {
          "color": "#19d3f3",
          "size": {
           "bdata": "AQ==",
           "dtype": "i1"
          },
          "sizemode": "area",
          "sizeref": 0.0075,
          "symbol": "circle"
         },
         "mode": "markers+text",
         "name": "Short tokens",
         "orientation": "v",
         "showlegend": true,
         "text": [
          "em"
         ],
         "textfont": {
          "size": 10
         },
         "textposition": "middle center",
         "type": "scatter",
         "x": {
          "bdata": "cocGQA==",
          "dtype": "f4"
         },
         "xaxis": "x",
         "y": {
          "bdata": "4weGvw==",
          "dtype": "f4"
         },
         "yaxis": "y"
        }
       ],
       "layout": {
        "height": 600,
        "legend": {
         "itemsizing": "constant",
         "title": {
          "text": "color"
         },
         "tracegroupgap": 0
        },
        "template": {
         "data": {
          "bar": [
           {
            "error_x": {
             "color": "#2a3f5f"
            },
            "error_y": {
             "color": "#2a3f5f"
            },
            "marker": {
             "line": {
              "color": "#E5ECF6",
              "width": 0.5
             },
             "pattern": {
              "fillmode": "overlay",
              "size": 10,
              "solidity": 0.2
             }
            },
            "type": "bar"
           }
          ],
          "barpolar": [
           {
            "marker": {
             "line": {
              "color": "#E5ECF6",
              "width": 0.5
             },
             "pattern": {
              "fillmode": "overlay",
              "size": 10,
              "solidity": 0.2
             }
            },
            "type": "barpolar"
           }
          ],
          "carpet": [
           {
            "aaxis": {
             "endlinecolor": "#2a3f5f",
             "gridcolor": "white",
             "linecolor": "white",
             "minorgridcolor": "white",
             "startlinecolor": "#2a3f5f"
            },
            "baxis": {
             "endlinecolor": "#2a3f5f",
             "gridcolor": "white",
             "linecolor": "white",
             "minorgridcolor": "white",
             "startlinecolor": "#2a3f5f"
            },
            "type": "carpet"
           }
          ],
          "choropleth": [
           {
            "colorbar": {
             "outlinewidth": 0,
             "ticks": ""
            },
            "type": "choropleth"
           }
          ],
          "contour": [
           {
            "colorbar": {
             "outlinewidth": 0,
             "ticks": ""
            },
            "colorscale": [
             [
              0,
              "#0d0887"
             ],
             [
              0.1111111111111111,
              "#46039f"
             ],
             [
              0.2222222222222222,
              "#7201a8"
             ],
             [
              0.3333333333333333,
              "#9c179e"
             ],
             [
              0.4444444444444444,
              "#bd3786"
             ],
             [
              0.5555555555555556,
              "#d8576b"
             ],
             [
              0.6666666666666666,
              "#ed7953"
             ],
             [
              0.7777777777777778,
              "#fb9f3a"
             ],
             [
              0.8888888888888888,
              "#fdca26"
             ],
             [
              1,
              "#f0f921"
             ]
            ],
            "type": "contour"
           }
          ],
          "contourcarpet": [
           {
            "colorbar": {
             "outlinewidth": 0,
             "ticks": ""
            },
            "type": "contourcarpet"
           }
          ],
          "heatmap": [
           {
            "colorbar": {
             "outlinewidth": 0,
             "ticks": ""
            },
            "colorscale": [
             [
              0,
              "#0d0887"
             ],
             [
              0.1111111111111111,
              "#46039f"
             ],
             [
              0.2222222222222222,
              "#7201a8"
             ],
             [
              0.3333333333333333,
              "#9c179e"
             ],
             [
              0.4444444444444444,
              "#bd3786"
             ],
             [
              0.5555555555555556,
              "#d8576b"
             ],
             [
              0.6666666666666666,
              "#ed7953"
             ],
             [
              0.7777777777777778,
              "#fb9f3a"
             ],
             [
              0.8888888888888888,
              "#fdca26"
             ],
             [
              1,
              "#f0f921"
             ]
            ],
            "type": "heatmap"
           }
          ],
          "histogram": [
           {
            "marker": {
             "pattern": {
              "fillmode": "overlay",
              "size": 10,
              "solidity": 0.2
             }
            },
            "type": "histogram"
           }
          ],
          "histogram2d": [
           {
            "colorbar": {
             "outlinewidth": 0,
             "ticks": ""
            },
            "colorscale": [
             [
              0,
              "#0d0887"
             ],
             [
              0.1111111111111111,
              "#46039f"
             ],
             [
              0.2222222222222222,
              "#7201a8"
             ],
             [
              0.3333333333333333,
              "#9c179e"
             ],
             [
              0.4444444444444444,
              "#bd3786"
             ],
             [
              0.5555555555555556,
              "#d8576b"
             ],
             [
              0.6666666666666666,
              "#ed7953"
             ],
             [
              0.7777777777777778,
              "#fb9f3a"
             ],
             [
              0.8888888888888888,
              "#fdca26"
             ],
             [
              1,
              "#f0f921"
             ]
            ],
            "type": "histogram2d"
           }
          ],
          "histogram2dcontour": [
           {
            "colorbar": {
             "outlinewidth": 0,
             "ticks": ""
            },
            "colorscale": [
             [
              0,
              "#0d0887"
             ],
             [
              0.1111111111111111,
              "#46039f"
             ],
             [
              0.2222222222222222,
              "#7201a8"
             ],
             [
              0.3333333333333333,
              "#9c179e"
             ],
             [
              0.4444444444444444,
              "#bd3786"
             ],
             [
              0.5555555555555556,
              "#d8576b"
             ],
             [
              0.6666666666666666,
              "#ed7953"
             ],
             [
              0.7777777777777778,
              "#fb9f3a"
             ],
             [
              0.8888888888888888,
              "#fdca26"
             ],
             [
              1,
              "#f0f921"
             ]
            ],
            "type": "histogram2dcontour"
           }
          ],
          "mesh3d": [
           {
            "colorbar": {
             "outlinewidth": 0,
             "ticks": ""
            },
            "type": "mesh3d"
           }
          ],
          "parcoords": [
           {
            "line": {
             "colorbar": {
              "outlinewidth": 0,
              "ticks": ""
             }
            },
            "type": "parcoords"
           }
          ],
          "pie": [
           {
            "automargin": true,
            "type": "pie"
           }
          ],
          "scatter": [
           {
            "fillpattern": {
             "fillmode": "overlay",
             "size": 10,
             "solidity": 0.2
            },
            "type": "scatter"
           }
          ],
          "scatter3d": [
           {
            "line": {
             "colorbar": {
              "outlinewidth": 0,
              "ticks": ""
             }
            },
            "marker": {
             "colorbar": {
              "outlinewidth": 0,
              "ticks": ""
             }
            },
            "type": "scatter3d"
           }
          ],
          "scattercarpet": [
           {
            "marker": {
             "colorbar": {
              "outlinewidth": 0,
              "ticks": ""
             }
            },
            "type": "scattercarpet"
           }
          ],
          "scattergeo": [
           {
            "marker": {
             "colorbar": {
              "outlinewidth": 0,
              "ticks": ""
             }
            },
            "type": "scattergeo"
           }
          ],
          "scattergl": [
           {
            "marker": {
             "colorbar": {
              "outlinewidth": 0,
              "ticks": ""
             }
            },
            "type": "scattergl"
           }
          ],
          "scattermap": [
           {
            "marker": {
             "colorbar": {
              "outlinewidth": 0,
              "ticks": ""
             }
            },
            "type": "scattermap"
           }
          ],
          "scattermapbox": [
           {
            "marker": {
             "colorbar": {
              "outlinewidth": 0,
              "ticks": ""
             }
            },
            "type": "scattermapbox"
           }
          ],
          "scatterpolar": [
           {
            "marker": {
             "colorbar": {
              "outlinewidth": 0,
              "ticks": ""
             }
            },
            "type": "scatterpolar"
           }
          ],
          "scatterpolargl": [
           {
            "marker": {
             "colorbar": {
              "outlinewidth": 0,
              "ticks": ""
             }
            },
            "type": "scatterpolargl"
           }
          ],
          "scatterternary": [
           {
            "marker": {
             "colorbar": {
              "outlinewidth": 0,
              "ticks": ""
             }
            },
            "type": "scatterternary"
           }
          ],
          "surface": [
           {
            "colorbar": {
             "outlinewidth": 0,
             "ticks": ""
            },
            "colorscale": [
             [
              0,
              "#0d0887"
             ],
             [
              0.1111111111111111,
              "#46039f"
             ],
             [
              0.2222222222222222,
              "#7201a8"
             ],
             [
              0.3333333333333333,
              "#9c179e"
             ],
             [
              0.4444444444444444,
              "#bd3786"
             ],
             [
              0.5555555555555556,
              "#d8576b"
             ],
             [
              0.6666666666666666,
              "#ed7953"
             ],
             [
              0.7777777777777778,
              "#fb9f3a"
             ],
             [
              0.8888888888888888,
              "#fdca26"
             ],
             [
              1,
              "#f0f921"
             ]
            ],
            "type": "surface"
           }
          ],
          "table": [
           {
            "cells": {
             "fill": {
              "color": "#EBF0F8"
             },
             "line": {
              "color": "white"
             }
            },
            "header": {
             "fill": {
              "color": "#C8D4E3"
             },
             "line": {
              "color": "white"
             }
            },
            "type": "table"
           }
          ]
         },
         "layout": {
          "annotationdefaults": {
           "arrowcolor": "#2a3f5f",
           "arrowhead": 0,
           "arrowwidth": 1
          },
          "autotypenumbers": "strict",
          "coloraxis": {
           "colorbar": {
            "outlinewidth": 0,
            "ticks": ""
           }
          },
          "colorscale": {
           "diverging": [
            [
             0,
             "#8e0152"
            ],
            [
             0.1,
             "#c51b7d"
            ],
            [
             0.2,
             "#de77ae"
            ],
            [
             0.3,
             "#f1b6da"
            ],
            [
             0.4,
             "#fde0ef"
            ],
            [
             0.5,
             "#f7f7f7"
            ],
            [
             0.6,
             "#e6f5d0"
            ],
            [
             0.7,
             "#b8e186"
            ],
            [
             0.8,
             "#7fbc41"
            ],
            [
             0.9,
             "#4d9221"
            ],
            [
             1,
             "#276419"
            ]
           ],
           "sequential": [
            [
             0,
             "#0d0887"
            ],
            [
             0.1111111111111111,
             "#46039f"
            ],
            [
             0.2222222222222222,
             "#7201a8"
            ],
            [
             0.3333333333333333,
             "#9c179e"
            ],
            [
             0.4444444444444444,
             "#bd3786"
            ],
            [
             0.5555555555555556,
             "#d8576b"
            ],
            [
             0.6666666666666666,
             "#ed7953"
            ],
            [
             0.7777777777777778,
             "#fb9f3a"
            ],
            [
             0.8888888888888888,
             "#fdca26"
            ],
            [
             1,
             "#f0f921"
            ]
           ],
           "sequentialminus": [
            [
             0,
             "#0d0887"
            ],
            [
             0.1111111111111111,
             "#46039f"
            ],
            [
             0.2222222222222222,
             "#7201a8"
            ],
            [
             0.3333333333333333,
             "#9c179e"
            ],
            [
             0.4444444444444444,
             "#bd3786"
            ],
            [
             0.5555555555555556,
             "#d8576b"
            ],
            [
             0.6666666666666666,
             "#ed7953"
            ],
            [
             0.7777777777777778,
             "#fb9f3a"
            ],
            [
             0.8888888888888888,
             "#fdca26"
            ],
            [
             1,
             "#f0f921"
            ]
           ]
          },
          "colorway": [
           "#636efa",
           "#EF553B",
           "#00cc96",
           "#ab63fa",
           "#FFA15A",
           "#19d3f3",
           "#FF6692",
           "#B6E880",
           "#FF97FF",
           "#FECB52"
          ],
          "font": {
           "color": "#2a3f5f"
          },
          "geo": {
           "bgcolor": "white",
           "lakecolor": "white",
           "landcolor": "#E5ECF6",
           "showlakes": true,
           "showland": true,
           "subunitcolor": "white"
          },
          "hoverlabel": {
           "align": "left"
          },
          "hovermode": "closest",
          "mapbox": {
           "style": "light"
          },
          "paper_bgcolor": "white",
          "plot_bgcolor": "#E5ECF6",
          "polar": {
           "angularaxis": {
            "gridcolor": "white",
            "linecolor": "white",
            "ticks": ""
           },
           "bgcolor": "#E5ECF6",
           "radialaxis": {
            "gridcolor": "white",
            "linecolor": "white",
            "ticks": ""
           }
          },
          "scene": {
           "xaxis": {
            "backgroundcolor": "#E5ECF6",
            "gridcolor": "white",
            "gridwidth": 2,
            "linecolor": "white",
            "showbackground": true,
            "ticks": "",
            "zerolinecolor": "white"
           },
           "yaxis": {
            "backgroundcolor": "#E5ECF6",
            "gridcolor": "white",
            "gridwidth": 2,
            "linecolor": "white",
            "showbackground": true,
            "ticks": "",
            "zerolinecolor": "white"
           },
           "zaxis": {
            "backgroundcolor": "#E5ECF6",
            "gridcolor": "white",
            "gridwidth": 2,
            "linecolor": "white",
            "showbackground": true,
            "ticks": "",
            "zerolinecolor": "white"
           }
          },
          "shapedefaults": {
           "line": {
            "color": "#2a3f5f"
           }
          },
          "ternary": {
           "aaxis": {
            "gridcolor": "white",
            "linecolor": "white",
            "ticks": ""
           },
           "baxis": {
            "gridcolor": "white",
            "linecolor": "white",
            "ticks": ""
           },
           "bgcolor": "#E5ECF6",
           "caxis": {
            "gridcolor": "white",
            "linecolor": "white",
            "ticks": ""
           }
          },
          "title": {
           "x": 0.05
          },
          "xaxis": {
           "automargin": true,
           "gridcolor": "white",
           "linecolor": "white",
           "ticks": "",
           "title": {
            "standoff": 15
           },
           "zerolinecolor": "white",
           "zerolinewidth": 2
          },
          "yaxis": {
           "automargin": true,
           "gridcolor": "white",
           "linecolor": "white",
           "ticks": "",
           "title": {
            "standoff": 15
           },
           "zerolinecolor": "white",
           "zerolinewidth": 2
          }
         }
        },
        "title": {
         "text": "2D t-SNE Visualization of Token Embeddings"
        },
        "width": 800,
        "xaxis": {
         "anchor": "y",
         "domain": [
          0,
          1
         ],
         "title": {
          "text": "t-SNE Component 1"
         }
        },
        "yaxis": {
         "anchor": "x",
         "domain": [
          0,
          1
         ],
         "title": {
          "text": "t-SNE Component 2"
         }
        }
       }
      },
      "image/png": "[encoded data removed]",
      "text/html": [
       "<div>            <script src=\"https://cdnjs.cloudflare.com/ajax/libs/mathjax/2.7.5/MathJax.js?config=TeX-AMS-MML_SVG\"></script><script type=\"text/javascript\">if (window.MathJax && window.MathJax.Hub && window.MathJax.Hub.Config) {window.MathJax.Hub.Config({SVG: {font: \"STIX-Web\"}});}</script>                <script type=\"text/javascript\">window.PlotlyConfig = {MathJaxConfig: 'local'};</script>\n",
       "        <script charset=\"utf-8\" src=\"https://cdn.plot.ly/plotly-3.0.1.min.js\" integrity=\"sha256-oy6Be7Eh6eiQFs5M7oXuPxxm9qbJXEtTpfSI93dW16Q=\" crossorigin=\"anonymous\"></script>                <div id=\"623c2f56-38ba-4493-82c4-7a98a0db5047\" class=\"plotly-graph-div\" style=\"height:600px; width:800px;\"></div>            <script type=\"text/javascript\">                window.PLOTLYENV=window.PLOTLYENV || {};                                if (document.getElementById(\"623c2f56-38ba-4493-82c4-7a98a0db5047\")) {                    Plotly.newPlot(                        \"623c2f56-38ba-4493-82c4-7a98a0db5047\",                        [{\"hovertemplate\":\"color=Prefix: un-\\u003cbr\\u003et-SNE Component 1=%{x}\\u003cbr\\u003et-SNE Component 2=%{y}\\u003cbr\\u003esize=%{marker.size}\\u003cbr\\u003etext=%{text}\\u003cextra\\u003e\\u003c\\u002fextra\\u003e\",\"legendgroup\":\"Prefix: un-\",\"marker\":{\"color\":\"#636efa\",\"size\":{\"dtype\":\"i1\",\"bdata\":\"AwIBAQE=\"},\"sizemode\":\"area\",\"sizeref\":0.0075,\"symbol\":\"circle\"},\"mode\":\"markers+text\",\"name\":\"Prefix: un-\",\"orientation\":\"v\",\"showlegend\":true,\"text\":[\"un\",\"understand\",\"unable\",\"unexpected\",\"unhappy\"],\"x\":{\"dtype\":\"f4\",\"bdata\":\"GLdHQKsEQ0DtNZRAdq+fQGZspEA=\"},\"xaxis\":\"x\",\"y\":{\"dtype\":\"f4\",\"bdata\":\"Ae4GQH0Ubb8ENgnA6gfevzgznb4=\"},\"yaxis\":\"y\",\"type\":\"scatter\",\"textfont\":{\"size\":10},\"textposition\":\"middle center\"},{\"hovertemplate\":\"color=Contains: break\\u003cbr\\u003et-SNE Component 1=%{x}\\u003cbr\\u003et-SNE Component 2=%{y}\\u003cbr\\u003esize=%{marker.size}\\u003cbr\\u003etext=%{text}\\u003cextra\\u003e\\u003c\\u002fextra\\u003e\",\"legendgroup\":\"Contains: break\",\"marker\":{\"color\":\"#EF553B\",\"size\":{\"dtype\":\"i1\",\"bdata\":\"AQEBAQI=\"},\"sizemode\":\"area\",\"sizeref\":0.0075,\"symbol\":\"circle\"},\"mode\":\"markers+text\",\"name\":\"Contains: break\",\"orientation\":\"v\",\"showlegend\":true,\"text\":[\"##break\",\"breakthrough\",\"outbreak\",\"breakdown\",\"break\"],\"x\":{\"dtype\":\"f4\",\"bdata\":\"AXQyQITh5z+QO7BAum57QICvTUA=\"},\"xaxis\":\"x\",\"y\":{\"dtype\":\"f4\",\"bdata\":\"exkuP7lh5j9nz\\u002fe\\u002fjyqCPzoq5j8=\"},\"yaxis\":\"y\",\"type\":\"scatter\",\"textfont\":{\"size\":10},\"textposition\":\"middle center\"},{\"hovertemplate\":\"color=Suffix: -able\\u003cbr\\u003et-SNE Component 1=%{x}\\u003cbr\\u003et-SNE Component 2=%{y}\\u003cbr\\u003esize=%{marker.size}\\u003cbr\\u003etext=%{text}\\u003cextra\\u003e\\u003c\\u002fextra\\u003e\",\"legendgroup\":\"Suffix: -able\",\"marker\":{\"color\":\"#00cc96\",\"size\":{\"dtype\":\"i1\",\"bdata\":\"AwEBAQE=\"},\"sizemode\":\"area\",\"sizeref\":0.0075,\"symbol\":\"circle\"},\"mode\":\"markers+text\",\"name\":\"Suffix: -able\",\"orientation\":\"v\",\"showlegend\":true,\"text\":[\"##able\",\"capable\",\"reliable\",\"comfortable\",\"able\"],\"x\":{\"dtype\":\"f4\",\"bdata\":\"VllNQOboiEAa2X1ATT+oQIyLiEA=\"},\"xaxis\":\"x\",\"y\":{\"dtype\":\"f4\",\"bdata\":\"FR7sPrbtFUB0es+\\u002fDCUWv2ojB78=\"},\"yaxis\":\"y\",\"type\":\"scatter\",\"textfont\":{\"size\":10},\"textposition\":\"middle center\"},{\"hovertemplate\":\"color=Other\\u003cbr\\u003et-SNE Component 1=%{x}\\u003cbr\\u003et-SNE Component 2=%{y}\\u003cbr\\u003esize=%{marker.size}\\u003cbr\\u003etext=%{text}\\u003cextra\\u003e\\u003c\\u002fextra\\u003e\",\"legendgroup\":\"Other\",\"marker\":{\"color\":\"#ab63fa\",\"size\":{\"dtype\":\"i1\",\"bdata\":\"AQEBAQEBAQEBAQEBAQEBAQEBAQEBAQEBAQEBAQEBAQEB\"},\"sizemode\":\"area\",\"sizeref\":0.0075,\"symbol\":\"circle\"},\"mode\":\"markers+text\",\"name\":\"Other\",\"orientation\":\"v\",\"showlegend\":true,\"text\":[\"##for\",\"##ese\",\"##en\",\"##age\",\"read\",\"happy\",\"happiness\",\"runner\",\"run\",\"walked\",\"walk\",\"development\",\"developer\",\"develop\",\"artificial\",\"intelligence\",\"machine\",\"deep\",\"token\",\"##ization\",\"##bed\",\"transform\",\"##er\",\"attention\",\"neural\",\"algorithm\",\"optimization\",\"gradient\",\"descent\",\"back\",\"##pro\",\"##pa\",\"##gation\"],\"x\":{\"dtype\":\"f4\",\"bdata\":\"0X4iQJzCLECXkwtA+5NFQEAFckAED69AERufQO21T0CxFGFA+Oh5QBoHIkAxGoNAmfOnQCVbeUCcC2BA9fSEQNN+vkAzEIVAGKZmQCAcHECGtFZA7pepQIs2FkA4iI1ADeKHQJb4rEDV55xAcKKfQF+Ej0CJyIxAu+9MQJHmK0AAKfQ\\u002f\"},\"xaxis\":\"x\",\"y\":{\"dtype\":\"f4\",\"bdata\":\"THDdPq6TMj+zXRA\\u002fxdeCP++osT\\u002fZS0W\\u002fvgsEvOngAsDkL1W\\u002fNIQ3wM22wr9bZMQ\\u002f5GxNQIDsmj3sHUpAopToPz4xqT8X2Iu\\u002fQJ\\u002fnPw93Lz\\u002fcV2w\\u002falq4PzFoez9IyFJAZwPlP\\u002fSxREDbcfQ\\u002f18GxPzMXCsCDifC\\u002f5osKP+gULD9fLqI+\"},\"yaxis\":\"y\",\"type\":\"scatter\",\"textfont\":{\"size\":10},\"textposition\":\"middle center\"},{\"hovertemplate\":\"color=Suffix: -ing\\u003cbr\\u003et-SNE Component 1=%{x}\\u003cbr\\u003et-SNE Component 2=%{y}\\u003cbr\\u003esize=%{marker.size}\\u003cbr\\u003etext=%{text}\\u003cextra\\u003e\\u003c\\u002fextra\\u003e\",\"legendgroup\":\"Suffix: -ing\",\"marker\":{\"color\":\"#FFA15A\",\"size\":{\"dtype\":\"i1\",\"bdata\":\"AQEBAQEB\"},\"sizemode\":\"area\",\"sizeref\":0.0075,\"symbol\":\"circle\"},\"mode\":\"markers+text\",\"name\":\"Suffix: -ing\",\"orientation\":\"v\",\"showlegend\":true,\"text\":[\"breaking\",\"running\",\"walking\",\"developing\",\"learning\",\"##ding\"],\"x\":{\"dtype\":\"f4\",\"bdata\":\"kvalQJhIrUCCJ7RAl3Z7QAfYcEDSVB9A\"},\"xaxis\":\"x\",\"y\":{\"dtype\":\"f4\",\"bdata\":\"cwDbvnHFs7\\u002fCK9K\\u002f7cQbPt+epz8WXWg\\u002f\"},\"yaxis\":\"y\",\"type\":\"scatter\",\"textfont\":{\"size\":10},\"textposition\":\"middle center\"},{\"hovertemplate\":\"color=Short tokens\\u003cbr\\u003et-SNE Component 1=%{x}\\u003cbr\\u003et-SNE Component 2=%{y}\\u003cbr\\u003esize=%{marker.size}\\u003cbr\\u003etext=%{text}\\u003cextra\\u003e\\u003c\\u002fextra\\u003e\",\"legendgroup\":\"Short tokens\",\"marker\":{\"color\":\"#19d3f3\",\"size\":{\"dtype\":\"i1\",\"bdata\":\"AQ==\"},\"sizemode\":\"area\",\"sizeref\":0.0075,\"symbol\":\"circle\"},\"mode\":\"markers+text\",\"name\":\"Short tokens\",\"orientation\":\"v\",\"showlegend\":true,\"text\":[\"em\"],\"x\":{\"dtype\":\"f4\",\"bdata\":\"cocGQA==\"},\"xaxis\":\"x\",\"y\":{\"dtype\":\"f4\",\"bdata\":\"4weGvw==\"},\"yaxis\":\"y\",\"type\":\"scatter\",\"textfont\":{\"size\":10},\"textposition\":\"middle center\"}],                        {\"template\":{\"data\":{\"histogram2dcontour\":[{\"type\":\"histogram2dcontour\",\"colorbar\":{\"outlinewidth\":0,\"ticks\":\"\"},\"colorscale\":[[0.0,\"#0d0887\"],[0.1111111111111111,\"#46039f\"],[0.2222222222222222,\"#7201a8\"],[0.3333333333333333,\"#9c179e\"],[0.4444444444444444,\"#bd3786\"],[0.5555555555555556,\"#d8576b\"],[0.6666666666666666,\"#ed7953\"],[0.7777777777777778,\"#fb9f3a\"],[0.8888888888888888,\"#fdca26\"],[1.0,\"#f0f921\"]]}],\"choropleth\":[{\"type\":\"choropleth\",\"colorbar\":{\"outlinewidth\":0,\"ticks\":\"\"}}],\"histogram2d\":[{\"type\":\"histogram2d\",\"colorbar\":{\"outlinewidth\":0,\"ticks\":\"\"},\"colorscale\":[[0.0,\"#0d0887\"],[0.1111111111111111,\"#46039f\"],[0.2222222222222222,\"#7201a8\"],[0.3333333333333333,\"#9c179e\"],[0.4444444444444444,\"#bd3786\"],[0.5555555555555556,\"#d8576b\"],[0.6666666666666666,\"#ed7953\"],[0.7777777777777778,\"#fb9f3a\"],[0.8888888888888888,\"#fdca26\"],[1.0,\"#f0f921\"]]}],\"heatmap\":[{\"type\":\"heatmap\",\"colorbar\":{\"outlinewidth\":0,\"ticks\":\"\"},\"colorscale\":[[0.0,\"#0d0887\"],[0.1111111111111111,\"#46039f\"],[0.2222222222222222,\"#7201a8\"],[0.3333333333333333,\"#9c179e\"],[0.4444444444444444,\"#bd3786\"],[0.5555555555555556,\"#d8576b\"],[0.6666666666666666,\"#ed7953\"],[0.7777777777777778,\"#fb9f3a\"],[0.8888888888888888,\"#fdca26\"],[1.0,\"#f0f921\"]]}],\"contourcarpet\":[{\"type\":\"contourcarpet\",\"colorbar\":{\"outlinewidth\":0,\"ticks\":\"\"}}],\"contour\":[{\"type\":\"contour\",\"colorbar\":{\"outlinewidth\":0,\"ticks\":\"\"},\"colorscale\":[[0.0,\"#0d0887\"],[0.1111111111111111,\"#46039f\"],[0.2222222222222222,\"#7201a8\"],[0.3333333333333333,\"#9c179e\"],[0.4444444444444444,\"#bd3786\"],[0.5555555555555556,\"#d8576b\"],[0.6666666666666666,\"#ed7953\"],[0.7777777777777778,\"#fb9f3a\"],[0.8888888888888888,\"#fdca26\"],[1.0,\"#f0f921\"]]}],\"surface\":[{\"type\":\"surface\",\"colorbar\":{\"outlinewidth\":0,\"ticks\":\"\"},\"colorscale\":[[0.0,\"#0d0887\"],[0.1111111111111111,\"#46039f\"],[0.2222222222222222,\"#7201a8\"],[0.3333333333333333,\"#9c179e\"],[0.4444444444444444,\"#bd3786\"],[0.5555555555555556,\"#d8576b\"],[0.6666666666666666,\"#ed7953\"],[0.7777777777777778,\"#fb9f3a\"],[0.8888888888888888,\"#fdca26\"],[1.0,\"#f0f921\"]]}],\"mesh3d\":[{\"type\":\"mesh3d\",\"colorbar\":{\"outlinewidth\":0,\"ticks\":\"\"}}],\"scatter\":[{\"fillpattern\":{\"fillmode\":\"overlay\",\"size\":10,\"solidity\":0.2},\"type\":\"scatter\"}],\"parcoords\":[{\"type\":\"parcoords\",\"line\":{\"colorbar\":{\"outlinewidth\":0,\"ticks\":\"\"}}}],\"scatterpolargl\":[{\"type\":\"scatterpolargl\",\"marker\":{\"colorbar\":{\"outlinewidth\":0,\"ticks\":\"\"}}}],\"bar\":[{\"error_x\":{\"color\":\"#2a3f5f\"},\"error_y\":{\"color\":\"#2a3f5f\"},\"marker\":{\"line\":{\"color\":\"#E5ECF6\",\"width\":0.5},\"pattern\":{\"fillmode\":\"overlay\",\"size\":10,\"solidity\":0.2}},\"type\":\"bar\"}],\"scattergeo\":[{\"type\":\"scattergeo\",\"marker\":{\"colorbar\":{\"outlinewidth\":0,\"ticks\":\"\"}}}],\"scatterpolar\":[{\"type\":\"scatterpolar\",\"marker\":{\"colorbar\":{\"outlinewidth\":0,\"ticks\":\"\"}}}],\"histogram\":[{\"marker\":{\"pattern\":{\"fillmode\":\"overlay\",\"size\":10,\"solidity\":0.2}},\"type\":\"histogram\"}],\"scattergl\":[{\"type\":\"scattergl\",\"marker\":{\"colorbar\":{\"outlinewidth\":0,\"ticks\":\"\"}}}],\"scatter3d\":[{\"type\":\"scatter3d\",\"line\":{\"colorbar\":{\"outlinewidth\":0,\"ticks\":\"\"}},\"marker\":{\"colorbar\":{\"outlinewidth\":0,\"ticks\":\"\"}}}],\"scattermap\":[{\"type\":\"scattermap\",\"marker\":{\"colorbar\":{\"outlinewidth\":0,\"ticks\":\"\"}}}],\"scattermapbox\":[{\"type\":\"scattermapbox\",\"marker\":{\"colorbar\":{\"outlinewidth\":0,\"ticks\":\"\"}}}],\"scatterternary\":[{\"type\":\"scatterternary\",\"marker\":{\"colorbar\":{\"outlinewidth\":0,\"ticks\":\"\"}}}],\"scattercarpet\":[{\"type\":\"scattercarpet\",\"marker\":{\"colorbar\":{\"outlinewidth\":0,\"ticks\":\"\"}}}],\"carpet\":[{\"aaxis\":{\"endlinecolor\":\"#2a3f5f\",\"gridcolor\":\"white\",\"linecolor\":\"white\",\"minorgridcolor\":\"white\",\"startlinecolor\":\"#2a3f5f\"},\"baxis\":{\"endlinecolor\":\"#2a3f5f\",\"gridcolor\":\"white\",\"linecolor\":\"white\",\"minorgridcolor\":\"white\",\"startlinecolor\":\"#2a3f5f\"},\"type\":\"carpet\"}],\"table\":[{\"cells\":{\"fill\":{\"color\":\"#EBF0F8\"},\"line\":{\"color\":\"white\"}},\"header\":{\"fill\":{\"color\":\"#C8D4E3\"},\"line\":{\"color\":\"white\"}},\"type\":\"table\"}],\"barpolar\":[{\"marker\":{\"line\":{\"color\":\"#E5ECF6\",\"width\":0.5},\"pattern\":{\"fillmode\":\"overlay\",\"size\":10,\"solidity\":0.2}},\"type\":\"barpolar\"}],\"pie\":[{\"automargin\":true,\"type\":\"pie\"}]},\"layout\":{\"autotypenumbers\":\"strict\",\"colorway\":[\"#636efa\",\"#EF553B\",\"#00cc96\",\"#ab63fa\",\"#FFA15A\",\"#19d3f3\",\"#FF6692\",\"#B6E880\",\"#FF97FF\",\"#FECB52\"],\"font\":{\"color\":\"#2a3f5f\"},\"hovermode\":\"closest\",\"hoverlabel\":{\"align\":\"left\"},\"paper_bgcolor\":\"white\",\"plot_bgcolor\":\"#E5ECF6\",\"polar\":{\"bgcolor\":\"#E5ECF6\",\"angularaxis\":{\"gridcolor\":\"white\",\"linecolor\":\"white\",\"ticks\":\"\"},\"radialaxis\":{\"gridcolor\":\"white\",\"linecolor\":\"white\",\"ticks\":\"\"}},\"ternary\":{\"bgcolor\":\"#E5ECF6\",\"aaxis\":{\"gridcolor\":\"white\",\"linecolor\":\"white\",\"ticks\":\"\"},\"baxis\":{\"gridcolor\":\"white\",\"linecolor\":\"white\",\"ticks\":\"\"},\"caxis\":{\"gridcolor\":\"white\",\"linecolor\":\"white\",\"ticks\":\"\"}},\"coloraxis\":{\"colorbar\":{\"outlinewidth\":0,\"ticks\":\"\"}},\"colorscale\":{\"sequential\":[[0.0,\"#0d0887\"],[0.1111111111111111,\"#46039f\"],[0.2222222222222222,\"#7201a8\"],[0.3333333333333333,\"#9c179e\"],[0.4444444444444444,\"#bd3786\"],[0.5555555555555556,\"#d8576b\"],[0.6666666666666666,\"#ed7953\"],[0.7777777777777778,\"#fb9f3a\"],[0.8888888888888888,\"#fdca26\"],[1.0,\"#f0f921\"]],\"sequentialminus\":[[0.0,\"#0d0887\"],[0.1111111111111111,\"#46039f\"],[0.2222222222222222,\"#7201a8\"],[0.3333333333333333,\"#9c179e\"],[0.4444444444444444,\"#bd3786\"],[0.5555555555555556,\"#d8576b\"],[0.6666666666666666,\"#ed7953\"],[0.7777777777777778,\"#fb9f3a\"],[0.8888888888888888,\"#fdca26\"],[1.0,\"#f0f921\"]],\"diverging\":[[0,\"#8e0152\"],[0.1,\"#c51b7d\"],[0.2,\"#de77ae\"],[0.3,\"#f1b6da\"],[0.4,\"#fde0ef\"],[0.5,\"#f7f7f7\"],[0.6,\"#e6f5d0\"],[0.7,\"#b8e186\"],[0.8,\"#7fbc41\"],[0.9,\"#4d9221\"],[1,\"#276419\"]]},\"xaxis\":{\"gridcolor\":\"white\",\"linecolor\":\"white\",\"ticks\":\"\",\"title\":{\"standoff\":15},\"zerolinecolor\":\"white\",\"automargin\":true,\"zerolinewidth\":2},\"yaxis\":{\"gridcolor\":\"white\",\"linecolor\":\"white\",\"ticks\":\"\",\"title\":{\"standoff\":15},\"zerolinecolor\":\"white\",\"automargin\":true,\"zerolinewidth\":2},\"scene\":{\"xaxis\":{\"backgroundcolor\":\"#E5ECF6\",\"gridcolor\":\"white\",\"linecolor\":\"white\",\"showbackground\":true,\"ticks\":\"\",\"zerolinecolor\":\"white\",\"gridwidth\":2},\"yaxis\":{\"backgroundcolor\":\"#E5ECF6\",\"gridcolor\":\"white\",\"linecolor\":\"white\",\"showbackground\":true,\"ticks\":\"\",\"zerolinecolor\":\"white\",\"gridwidth\":2},\"zaxis\":{\"backgroundcolor\":\"#E5ECF6\",\"gridcolor\":\"white\",\"linecolor\":\"white\",\"showbackground\":true,\"ticks\":\"\",\"zerolinecolor\":\"white\",\"gridwidth\":2}},\"shapedefaults\":{\"line\":{\"color\":\"#2a3f5f\"}},\"annotationdefaults\":{\"arrowcolor\":\"#2a3f5f\",\"arrowhead\":0,\"arrowwidth\":1},\"geo\":{\"bgcolor\":\"white\",\"landcolor\":\"#E5ECF6\",\"subunitcolor\":\"white\",\"showland\":true,\"showlakes\":true,\"lakecolor\":\"white\"},\"title\":{\"x\":0.05},\"mapbox\":{\"style\":\"light\"}}},\"xaxis\":{\"anchor\":\"y\",\"domain\":[0.0,1.0],\"title\":{\"text\":\"t-SNE Component 1\"}},\"yaxis\":{\"anchor\":\"x\",\"domain\":[0.0,1.0],\"title\":{\"text\":\"t-SNE Component 2\"}},\"legend\":{\"title\":{\"text\":\"color\"},\"tracegroupgap\":0,\"itemsizing\":\"constant\"},\"title\":{\"text\":\"2D t-SNE Visualization of Token Embeddings\"},\"height\":600,\"width\":800},                        {\"responsive\": true}                    ).then(function(){\n",
       "                            \n",
       "var gd = document.getElementById('623c2f56-38ba-4493-82c4-7a98a0db5047');\n",
       "var x = new MutationObserver(function (mutations, observer) {{\n",
       "        var display = window.getComputedStyle(gd).display;\n",
       "        if (!display || display === 'none') {{\n",
       "            console.log([gd, 'removed!']);\n",
       "            Plotly.purge(gd);\n",
       "            observer.disconnect();\n",
       "        }}\n",
       "}});\n",
       "\n",
       "// Listen for the removal of the full notebook cells\n",
       "var notebookContainer = gd.closest('#notebook-container');\n",
       "if (notebookContainer) {{\n",
       "    x.observe(notebookContainer, {childList: true});\n",
       "}}\n",
       "\n",
       "// Listen for the clearing of the current output cell\n",
       "var outputEl = gd.closest('.output');\n",
       "if (outputEl) {{\n",
       "    x.observe(outputEl, {childList: true});\n",
       "}}\n",
       "\n",
       "                        })                };            </script>        </div>"
      ]
     },
     "metadata": {},
     "output_type": "display_data"
    },
    {
     "name": "stdout",
     "output_type": "stream",
     "text": [
      "✅ 2D visualization displayed successfully!\n",
      "\n",
      "=== DEMO COMPLETE ===\n",
      "These visualizations show how:\n",
      "1. Words are broken into meaningful subword tokens\n",
      "2. Similar tokens cluster together in vector space\n",
      "3. This enables efficient and powerful language understanding in AI\n",
      "\n",
      "=== TOKEN DATA TABLE ===\n",
      "        token         x         y         z  frequency         category\n",
      "0          un -1.658749  1.641543 -1.511062          3      Prefix: un-\n",
      "1     ##break -5.150023 -1.236311  3.308090          1  Contains: break\n",
      "2      ##able -5.076567 -1.898613  1.766661          3    Suffix: -able\n",
      "3  understand  2.876693  1.686449 -0.016836          2      Prefix: un-\n",
      "4      unable  7.962558 -2.419820  1.348107          1      Prefix: un-\n",
      "5       ##for -5.471778 -1.929734  3.976927          1            Other\n",
      "6       ##ese -6.130571 -1.282206  3.948437          1            Other\n",
      "7        ##en -5.853510 -0.793200  6.209376          1            Other\n",
      "8  unexpected  6.739393 -4.641232  1.978782          1      Prefix: un-\n",
      "9    breaking  1.220328 -5.325574 -3.833107          1     Suffix: -ing\n",
      "\n",
      "Total tokens: 55\n",
      "Categories: ['Prefix: un-' 'Contains: break' 'Suffix: -able' 'Other' 'Suffix: -ing'\n",
      " 'Short tokens']\n"
     ]
    }
   ],
   "source": [
    "# Get embeddings for unique tokens\n",
    "unique_tokens = list(token_counts.keys())\n",
    "print(f\"\\nGenerating embeddings for {len(unique_tokens)} unique tokens...\")\n",
    "\n",
    "embeddings, valid_tokens = get_token_embeddings(unique_tokens, tokenizer, model)\n",
    "print(f\"Generated embeddings shape: {embeddings.shape}\")\n",
    "\n",
    "# Reduce dimensions to 3D using PCA\n",
    "print(\"\\nReducing dimensions to 3D using PCA...\")\n",
    "pca = PCA(n_components=3)\n",
    "embeddings_3d = pca.fit_transform(embeddings)\n",
    "\n",
    "print(f\"3D embeddings shape: {embeddings_3d.shape}\")\n",
    "print(f\"Explained variance ratio: {pca.explained_variance_ratio_}\")\n",
    "print(f\"Total explained variance: {sum(pca.explained_variance_ratio_):.3f}\")\n",
    "\n",
    "# Create dataframe for visualization\n",
    "df_viz = pd.DataFrame({\n",
    "    'token': valid_tokens,\n",
    "    'x': embeddings_3d[:, 0],\n",
    "    'y': embeddings_3d[:, 1],\n",
    "    'z': embeddings_3d[:, 2],\n",
    "    'frequency': [token_counts[token] for token in valid_tokens]\n",
    "})\n",
    "\n",
    "# Add categories for coloring\n",
    "def categorize_token(token):\n",
    "    if token.startswith('un'):\n",
    "        return 'Prefix: un-'\n",
    "    elif token.endswith('able'):\n",
    "        return 'Suffix: -able'\n",
    "    elif token.endswith('ing'):\n",
    "        return 'Suffix: -ing'\n",
    "    elif 'break' in token:\n",
    "        return 'Contains: break'\n",
    "    elif token in ['the', 'a', 'an', 'and', 'or', 'but']:\n",
    "        return 'Common words'\n",
    "    elif len(token) <= 2:\n",
    "        return 'Short tokens'\n",
    "    else:\n",
    "        return 'Other'\n",
    "\n",
    "df_viz['category'] = df_viz['token'].apply(categorize_token)\n",
    "\n",
    "# Create 3D interactive plot with error handling\n",
    "print(\"\\nCreating 3D visualization...\")\n",
    "\n",
    "try:\n",
    "    fig = go.Figure()\n",
    "\n",
    "    # Add points for each category\n",
    "    categories = df_viz['category'].unique()\n",
    "    colors = px.colors.qualitative.Set3\n",
    "\n",
    "    for i, category in enumerate(categories):\n",
    "        mask = df_viz['category'] == category\n",
    "        subset = df_viz[mask]\n",
    "        \n",
    "        fig.add_trace(go.Scatter3d(\n",
    "            x=subset['x'],\n",
    "            y=subset['y'],\n",
    "            z=subset['z'],\n",
    "            mode='markers+text',\n",
    "            marker=dict(\n",
    "                size=subset['frequency'] * 3 + 5,  # Size based on frequency\n",
    "                color=colors[i % len(colors)],\n",
    "                opacity=0.8,\n",
    "                line=dict(width=1, color='black')\n",
    "            ),\n",
    "            text=subset['token'],\n",
    "            textposition='middle center',\n",
    "            textfont=dict(size=10),\n",
    "            name=category,\n",
    "            hovertemplate=\n",
    "            '<b>Token:</b> %{text}<br>' +\n",
    "            '<b>Category:</b> ' + category + '<br>' +\n",
    "            '<b>Frequency:</b> %{marker.size}<br>' +\n",
    "            '<b>Coordinates:</b> (%{x:.2f}, %{y:.2f}, %{z:.2f})<br>' +\n",
    "            '<extra></extra>'\n",
    "        ))\n",
    "\n",
    "    # Update layout\n",
    "    fig.update_layout(\n",
    "        title={\n",
    "            'text': '3D Visualization of Token Embeddings<br><sub>AI Mastery Series - Understanding Tokenization</sub>',\n",
    "            'x': 0.5,\n",
    "            'font': {'size': 16}\n",
    "        },\n",
    "        scene=dict(\n",
    "            xaxis_title='PC1 (Principal Component 1)',\n",
    "            yaxis_title='PC2 (Principal Component 2)',\n",
    "            zaxis_title='PC3 (Principal Component 3)',\n",
    "            camera=dict(\n",
    "                eye=dict(x=1.5, y=1.5, z=1.5)\n",
    "            )\n",
    "        ),\n",
    "        width=900,\n",
    "        height=700,\n",
    "        legend=dict(\n",
    "            yanchor=\"top\",\n",
    "            y=0.99,\n",
    "            xanchor=\"left\",\n",
    "            x=0.01\n",
    "        )\n",
    "    )\n",
    "\n",
    "    # Display the plot with multiple fallback options\n",
    "    try:\n",
    "        fig.show()\n",
    "        print(\"✅ 3D visualization displayed successfully!\")\n",
    "    except Exception as e:\n",
    "        print(f\"⚠️  Direct show() failed: {e}\")\n",
    "        try:\n",
    "            # Try using plotly offline\n",
    "            import plotly.offline as pyo\n",
    "            pyo.iplot(fig)\n",
    "            print(\"✅ 3D visualization displayed using offline mode!\")\n",
    "        except Exception as e2:\n",
    "            print(f\"⚠️  Offline mode failed: {e2}\")\n",
    "            # Save as HTML file as fallback\n",
    "            fig.write_html(\"3d_token_visualization.html\")\n",
    "            print(\"💾 3D visualization saved as '3d_token_visualization.html'\")\n",
    "            print(\"   You can open this file in your browser to view the interactive 3D plot!\")\n",
    "\n",
    "except Exception as e:\n",
    "    print(f\"❌ Error creating 3D visualization: {e}\")\n",
    "    print(\"Trying alternative matplotlib visualization...\")\n",
    "    \n",
    "    # Fallback to matplotlib 3D plot\n",
    "    try:\n",
    "        import matplotlib.pyplot as plt\n",
    "        from mpl_toolkits.mplot3d import Axes3D\n",
    "        \n",
    "        fig_mpl = plt.figure(figsize=(12, 8))\n",
    "        ax = fig_mpl.add_subplot(111, projection='3d')\n",
    "        \n",
    "        # Plot each category with different colors\n",
    "        categories = df_viz['category'].unique()\n",
    "        colors_mpl = plt.cm.Set3(np.linspace(0, 1, len(categories)))\n",
    "        \n",
    "        for i, category in enumerate(categories):\n",
    "            mask = df_viz['category'] == category\n",
    "            subset = df_viz[mask]\n",
    "            \n",
    "            ax.scatter(subset['x'], subset['y'], subset['z'], \n",
    "                      s=subset['frequency'] * 20 + 50,\n",
    "                      c=[colors_mpl[i]], \n",
    "                      alpha=0.7,\n",
    "                      label=category)\n",
    "            \n",
    "            # Add text labels\n",
    "            for j, row in subset.iterrows():\n",
    "                ax.text(row['x'], row['y'], row['z'], row['token'], \n",
    "                       fontsize=8, alpha=0.8)\n",
    "        \n",
    "        ax.set_xlabel('PC1')\n",
    "        ax.set_ylabel('PC2')\n",
    "        ax.set_zlabel('PC3')\n",
    "        ax.set_title('3D Token Embeddings (Matplotlib Fallback)')\n",
    "        ax.legend()\n",
    "        \n",
    "        plt.tight_layout()\n",
    "        plt.show()\n",
    "        print(\"✅ Alternative matplotlib 3D visualization displayed!\")\n",
    "        \n",
    "    except Exception as e3:\n",
    "        print(f\"❌ Matplotlib fallback also failed: {e3}\")\n",
    "        print(\"📊 Data is ready but visualization failed. Check your environment setup.\")\n",
    "\n",
    "# Print insights\n",
    "print(\"\\n=== INSIGHTS FOR TOKENIZATION BENEFITS ===\")\n",
    "print(\"\\n1. TOKENIZATION BENEFITS:\")\n",
    "print(\"   - Vocabulary reduction: Instead of thousands of words, we use fewer tokens\")\n",
    "print(\"   - Subword reusability: 'un', 'break', 'able' appear in multiple words\")\n",
    "print(\"   - Handles unknown words: New words can be broken into known subwords\")\n",
    "\n",
    "print(\"\\n2. 3D VISUALIZATION INSIGHTS:\")\n",
    "print(\"   - Similar tokens cluster together in the embedding space\")\n",
    "print(\"   - Prefixes like 'un-' and suffixes like '-able' form their own regions\")\n",
    "print(\"   - Frequency affects the importance (size) of tokens\")\n",
    "\n",
    "print(\"\\n3. PRACTICAL IMPLICATIONS:\")\n",
    "print(\"   - Models learn relationships between token parts\")\n",
    "print(\"   - Understanding 'break' helps with 'breaking', 'breakdown', etc.\")\n",
    "print(\"   - Efficient representation enables better AI language understanding\")\n",
    "\n",
    "# Create a simplified 2D version for easier viewing\n",
    "print(\"\\nCreating simplified 2D version...\")\n",
    "\n",
    "try:\n",
    "    # Use t-SNE for 2D\n",
    "    tsne = TSNE(n_components=2, random_state=42, perplexity=min(30, len(valid_tokens)-1))\n",
    "    embeddings_2d = tsne.fit_transform(embeddings)\n",
    "\n",
    "    fig_2d = px.scatter(\n",
    "        x=embeddings_2d[:, 0],\n",
    "        y=embeddings_2d[:, 1],\n",
    "        color=df_viz['category'],\n",
    "        size=df_viz['frequency'],\n",
    "        text=df_viz['token'],\n",
    "        title='2D t-SNE Visualization of Token Embeddings',\n",
    "        labels={'x': 't-SNE Component 1', 'y': 't-SNE Component 2'},\n",
    "        width=800,\n",
    "        height=600\n",
    "    )\n",
    "\n",
    "    fig_2d.update_traces(textposition='middle center', textfont_size=10)\n",
    "    \n",
    "    try:\n",
    "        fig_2d.show()\n",
    "        print(\"✅ 2D visualization displayed successfully!\")\n",
    "    except Exception as e:\n",
    "        print(f\"⚠️  2D visualization show() failed: {e}\")\n",
    "        fig_2d.write_html(\"2d_token_visualization.html\")\n",
    "        print(\"💾 2D visualization saved as '2d_token_visualization.html'\")\n",
    "\n",
    "except Exception as e:\n",
    "    print(f\"❌ Error creating 2D visualization: {e}\")\n",
    "    print(\"Trying matplotlib 2D fallback...\")\n",
    "    \n",
    "    try:\n",
    "        import matplotlib.pyplot as plt\n",
    "        \n",
    "        # Simple 2D scatter plot\n",
    "        plt.figure(figsize=(12, 8))\n",
    "        \n",
    "        # Plot each category with different colors\n",
    "        categories = df_viz['category'].unique()\n",
    "        colors_mpl = plt.cm.Set3(np.linspace(0, 1, len(categories)))\n",
    "        \n",
    "        for i, category in enumerate(categories):\n",
    "            mask = df_viz['category'] == category\n",
    "            subset = df_viz[mask]\n",
    "            \n",
    "            plt.scatter(subset['x'], subset['y'], \n",
    "                       s=subset['frequency'] * 20 + 50,\n",
    "                       c=[colors_mpl[i]], \n",
    "                       alpha=0.7,\n",
    "                       label=category)\n",
    "            \n",
    "            # Add text labels\n",
    "            for j, row in subset.iterrows():\n",
    "                plt.text(row['x'], row['y'], row['token'], \n",
    "                        fontsize=8, alpha=0.8)\n",
    "        \n",
    "        plt.xlabel('PC1')\n",
    "        plt.ylabel('PC2')\n",
    "        plt.title('2D Token Embeddings (Matplotlib Fallback)')\n",
    "        plt.legend()\n",
    "        plt.tight_layout()\n",
    "        plt.show()\n",
    "        print(\"✅ Alternative matplotlib 2D visualization displayed!\")\n",
    "        \n",
    "    except Exception as e2:\n",
    "        print(f\"❌ All visualization methods failed: {e2}\")\n",
    "        print(\"📊 Data is available in df_viz DataFrame for manual inspection\")\n",
    "\n",
    "print(\"\\n=== DEMO COMPLETE ===\")\n",
    "print(\"These visualizations show how:\")\n",
    "print(\"1. Words are broken into meaningful subword tokens\")\n",
    "print(\"2. Similar tokens cluster together in vector space\")\n",
    "print(\"3. This enables efficient and powerful language understanding in AI\")\n",
    "\n",
    "# Display the data table as backup\n",
    "print(\"\\n=== TOKEN DATA TABLE ===\")\n",
    "print(df_viz.head(10))\n",
    "print(f\"\\nTotal tokens: {len(df_viz)}\")\n",
    "print(f\"Categories: {df_viz['category'].unique()}\")"
   ]
  },
  {
   "cell_type": "code",
   "execution_count": null,
   "id": "8db3a9d3-b582-4193-a8dd-3c80a55d37a3",
   "metadata": {},
   "outputs": [],
   "source": []
  }
 ],
 "metadata": {
  "kernelspec": {
   "display_name": "Python 3 (ipykernel)",
   "language": "python",
   "name": "python3"
  },
  "language_info": {
   "codemirror_mode": {
    "name": "ipython",
    "version": 3
   },
   "file_extension": ".py",
   "mimetype": "text/x-python",
   "name": "python",
   "nbconvert_exporter": "python",
   "pygments_lexer": "ipython3",
   "version": "3.13.5"
  }
 },
 "nbformat": 4,
 "nbformat_minor": 5
}
